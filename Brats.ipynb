{
  "nbformat": 4,
  "nbformat_minor": 0,
  "metadata": {
    "colab": {
      "name": "Untitled2.ipynb",
      "provenance": [],
      "collapsed_sections": [],
      "machine_shape": "hm",
      "include_colab_link": true
    },
    "kernelspec": {
      "name": "python3",
      "display_name": "Python 3"
    },
    "accelerator": "GPU"
  },
  "cells": [
    {
      "cell_type": "markdown",
      "metadata": {
        "id": "view-in-github",
        "colab_type": "text"
      },
      "source": [
        "<a href=\"https://colab.research.google.com/github/TajikDanyal/Brats/blob/master/Brats.ipynb\" target=\"_parent\"><img src=\"https://colab.research.google.com/assets/colab-badge.svg\" alt=\"Open In Colab\"/></a>"
      ]
    },
    {
      "cell_type": "code",
      "metadata": {
        "id": "BN02X5lxmliy",
        "colab_type": "code",
        "outputId": "0b0ac64d-0ec8-43d1-fb62-78c328d1e7d9",
        "colab": {
          "base_uri": "https://localhost:8080/",
          "height": 215
        }
      },
      "source": [
        "!wget https://www.cbica.upenn.edu/sbia/Spyridon.Bakas/MICCAI_BraTS/2019/MICCAI_BraTS_2019_Data_Training.zip"
      ],
      "execution_count": 1,
      "outputs": [
        {
          "output_type": "stream",
          "text": [
            "--2019-09-19 05:09:36--  https://www.cbica.upenn.edu/sbia/Spyridon.Bakas/MICCAI_BraTS/2019/MICCAI_BraTS_2019_Data_Training.zip\n",
            "Resolving www.cbica.upenn.edu (www.cbica.upenn.edu)... 165.123.244.124\n",
            "Connecting to www.cbica.upenn.edu (www.cbica.upenn.edu)|165.123.244.124|:443... connected.\n",
            "HTTP request sent, awaiting response... 200 OK\n",
            "Length: 2759083030 (2.6G) [application/zip]\n",
            "Saving to: ‘MICCAI_BraTS_2019_Data_Training.zip’\n",
            "\n",
            "MICCAI_BraTS_2019_D 100%[===================>]   2.57G  36.4MB/s    in 77s     \n",
            "\n",
            "2019-09-19 05:10:53 (34.2 MB/s) - ‘MICCAI_BraTS_2019_Data_Training.zip’ saved [2759083030/2759083030]\n",
            "\n"
          ],
          "name": "stdout"
        }
      ]
    },
    {
      "cell_type": "code",
      "metadata": {
        "id": "zYb1kQKmnCKv",
        "colab_type": "code",
        "colab": {}
      },
      "source": [
        "from zipfile import ZipFile\n",
        "zip = ZipFile('MICCAI_BraTS_2019_Data_Training.zip')\n",
        "zip.extractall()"
      ],
      "execution_count": 0,
      "outputs": []
    },
    {
      "cell_type": "code",
      "metadata": {
        "id": "Wn3roiMu51l8",
        "colab_type": "code",
        "outputId": "122a6f0d-0e85-4d30-c2db-68ec1c79d00c",
        "colab": {
          "base_uri": "https://localhost:8080/",
          "height": 35
        }
      },
      "source": [
        "import os\n",
        "import numpy as np\n",
        "import nibabel as nib\n",
        "import random\n",
        "import matplotlib.pyplot as plt\n",
        "from keras.models import *\n",
        "from keras.layers import *\n",
        "from keras.optimizers import *\n",
        "from keras.callbacks import ModelCheckpoint, LearningRateScheduler\n",
        "from keras import backend as keras\n",
        "from keras.utils import Sequence\n",
        "import cv2"
      ],
      "execution_count": 3,
      "outputs": [
        {
          "output_type": "stream",
          "text": [
            "Using TensorFlow backend.\n"
          ],
          "name": "stderr"
        }
      ]
    },
    {
      "cell_type": "code",
      "metadata": {
        "id": "vs0GX9iM6Ttm",
        "colab_type": "code",
        "colab": {}
      },
      "source": [
        "PATH = \"/content/MICCAI_BraTS_2019_Data_Training/HGG/\""
      ],
      "execution_count": 0,
      "outputs": []
    },
    {
      "cell_type": "code",
      "metadata": {
        "id": "fDktqyUW6V7S",
        "colab_type": "code",
        "colab": {}
      },
      "source": [
        "class MyGenerator(Sequence):\n",
        "    def __init__(self, Path, Directory):\n",
        "        self.Path=Path\n",
        "        self.Folders=Directory\n",
        "    def __len__(self):\n",
        "        return len(self.Folders)\n",
        "    def __getitem__(self, idx):\n",
        "      return ReadImageDataFromFolderFiles(self.Folders[idx])\n",
        "       \n",
        "         "
      ],
      "execution_count": 0,
      "outputs": []
    },
    {
      "cell_type": "code",
      "metadata": {
        "id": "zqvHjyDP6ZXH",
        "colab_type": "code",
        "colab": {}
      },
      "source": [
        "def ReadDataset(Path):\n",
        "    return os.listdir(Path)"
      ],
      "execution_count": 0,
      "outputs": []
    },
    {
      "cell_type": "code",
      "metadata": {
        "id": "AncRWXyJ6dUN",
        "colab_type": "code",
        "colab": {}
      },
      "source": [
        "def SetLabel(FileName):\n",
        "    if\"t1.\" in FileName :\n",
        "        return \"T1\"\n",
        "    elif \"t1ce.\" in FileName:\n",
        "        return \"T1CE\"\n",
        "    elif \"seg.\" in FileName:\n",
        "        return \"Segmented\"\n",
        "    elif \"flair.\" in FileName:\n",
        "        return \"Flair\"\n",
        "    elif \"t2.\" in FileName:\n",
        "        return \"T2\"\n",
        "    return \"Undefined\""
      ],
      "execution_count": 0,
      "outputs": []
    },
    {
      "cell_type": "code",
      "metadata": {
        "id": "PSgENb7d6fze",
        "colab_type": "code",
        "colab": {}
      },
      "source": [
        "def ReadImageDataFromFolderFiles(FolderName):\n",
        "  \n",
        "    im_Size=240\n",
        "    Files = os.listdir(PATH+FolderName)\n",
        "    Files.sort()\n",
        "    Images = [nib.load( PATH+FolderName+\"/\"+File ).get_fdata() for File in Files]\n",
        "    XData = np.zeros( (Images[0].shape[2], im_Size, im_Size, 4) )\n",
        "    YData = np.zeros( (Images[0].shape[2], im_Size, im_Size, 1) )\n",
        "    for i in range(Images[0].shape[2]):\n",
        "        XData[i,:,:,0] = cv2.resize(Images[0][:,:,i], (im_Size,im_Size), interpolation = cv2.INTER_AREA) \n",
        "        XData[i,:,:,1] = cv2.resize(Images[2][:,:,i], (im_Size,im_Size), interpolation = cv2.INTER_AREA) \n",
        "        XData[i,:,:,2] = cv2.resize(Images[3][:,:,i], (im_Size,im_Size), interpolation = cv2.INTER_AREA) \n",
        "        XData[i,:,:,3] = cv2.resize(Images[4][:,:,i], (im_Size,im_Size), interpolation = cv2.INTER_AREA) \n",
        "        YData[i,:,:,0] = cv2.resize(Images[1][:,:,i], (im_Size,im_Size), interpolation = cv2.INTER_AREA) \n",
        "    return XData/65535, YData/65535"
      ],
      "execution_count": 0,
      "outputs": []
    },
    {
      "cell_type": "code",
      "metadata": {
        "id": "bi25WPTp6gjV",
        "colab_type": "code",
        "colab": {}
      },
      "source": [
        "def DisplaySample(FolderName, index):\n",
        "    print(\"****IN: \"+str(index+1)+\" PATH=\"+PATH+FolderName+\"****\")\n",
        "    Files = os.listdir(PATH+FolderName)\n",
        "    fig, axes = plt.subplots(1, len(Files))\n",
        "    count=0\n",
        "    TempFiles=Files\n",
        "    TempFiles.sort()\n",
        "    for File in Files:\n",
        "        img = nib.load(PATH+FolderName+\"/\"+File)\n",
        "        #print (img)\n",
        "        img_data = img.get_fdata()\n",
        "        #img_data = cv2.cvtColor(img, cv2.COLOR_BGR2GRAY)\n",
        "        #raise ValueError(img_data.shape)\n",
        "        axes[count].title.set_text(SetLabel(File))\n",
        "        axes[count].imshow(img_data[:,:,77].T, aspect=\"equal\",  interpolation='nearest', origin=\"lower\")\n",
        "        count+=1\n",
        "    plt.show()"
      ],
      "execution_count": 0,
      "outputs": []
    },
    {
      "cell_type": "code",
      "metadata": {
        "id": "iFdnE75x6n27",
        "colab_type": "code",
        "colab": {}
      },
      "source": [
        "def DisplayOutput(Predicted):\n",
        "  fig, axes = plt.subplots(1,1)\n",
        "  for i in range(0,Predicted.shape[0]):\n",
        "    plt.imshow(Predicted[i,:,:,0])\n",
        "    plt.show()\n",
        "        "
      ],
      "execution_count": 0,
      "outputs": []
    },
    {
      "cell_type": "code",
      "metadata": {
        "id": "HvS-IhTW6mSi",
        "colab_type": "code",
        "colab": {}
      },
      "source": [
        "def AnimateSample(FolderName, index):\n",
        "    print(\"****IN: \"+str(index+1)+\" PATH=\"+PATH+FolderName+\"****\")\n",
        "    Files = os.listdir(PATH+FolderName)\n",
        "    TempFiles=Files\n",
        "    TempFiles.sort()\n",
        "    for File in Files:\n",
        "        img = nib.load(PATH+FolderName+\"/\"+File)\n",
        "        img_data = img.get_fdata()\n",
        "        #raise ValueError()\n",
        "        \n",
        "        for i in range(img.shape[2]):\n",
        "            plt.imshow(img_data[:,:,i].T)\n",
        "            plt.title(File)\n",
        "            plt.show()\n"
      ],
      "execution_count": 0,
      "outputs": []
    },
    {
      "cell_type": "code",
      "metadata": {
        "id": "wdUKDRUw6o2O",
        "colab_type": "code",
        "colab": {}
      },
      "source": [
        "def Split(Folders, Ratio=0.8):\n",
        "    random.shuffle(Folders)\n",
        "    Train = []\n",
        "    Test = []\n",
        "    Valid = []\n",
        "    SplitPoint = int(Ratio*len(Folders))\n",
        "    Train = Folders[0:SplitPoint]\n",
        "    Test = Folders[SplitPoint:len(Folders)]\n",
        "    SplitPoint = int(Ratio*len(Train))\n",
        "    Valid = Train[SplitPoint:len(Train)]\n",
        "    Train = Train[0:SplitPoint]\n",
        "    return Train, Test, Valid"
      ],
      "execution_count": 0,
      "outputs": []
    },
    {
      "cell_type": "code",
      "metadata": {
        "id": "go-uSYvi6rNV",
        "colab_type": "code",
        "colab": {}
      },
      "source": [
        "def PreProcessAndPrepareDataset(Path):\n",
        "    Folders=ReadDataset(Path)\n",
        "    X = np.zeros((len(Folders),155*5,240,240))\n",
        "    for Folder in Folders:\n",
        "        ImageList = ReadImageDataFromFolderFiles(Folder)\n",
        "        ImageArray = np.asarray(ImageList)\n",
        "        print(ImageArray.shape)\n",
        "        ImageArray = ImageArray.reshape((155*5,240,240))\n",
        "        raise ValueError(ImageArray.shape)"
      ],
      "execution_count": 0,
      "outputs": []
    },
    {
      "cell_type": "code",
      "metadata": {
        "id": "U8tSRXy381r3",
        "colab_type": "code",
        "colab": {}
      },
      "source": [
        "def DownSample1(Input, NumConvFilters, ConvFilterSize, MaxPoolSize, Activation=\"relu\", Padding=\"same\"):\n",
        "  conv1 = Conv2D(NumConvFilters, ConvFilterSize, activation = Activation, padding = Padding, kernel_initializer = 'he_normal')(Input)\n",
        "  conv2 = Conv2D(NumConvFilters, ConvFilterSize, activation = Activation, padding = Padding, kernel_initializer = 'he_normal')(conv1)\n",
        "  pool1 = MaxPooling2D(pool_size=(MaxPoolSize, MaxPoolSize))(conv2)\n",
        "  return conv2, pool1\n",
        "\n",
        "def DownSample2(Input, NumConvFilters, ConvFilterSize, MaxPoolSize, Activation=\"relu\", Padding=\"same\"):\n",
        "  conv1 = Conv2D(NumConvFilters, ConvFilterSize, activation = Activation, padding = Padding, kernel_initializer = 'he_normal')(Input)\n",
        "  return DownSample1(conv1, NumConvFilters, ConvFilterSize, MaxPoolSize, Activation, Padding)\n",
        "   \n",
        "def UpSample2(Input, SkipConnections, NumDeConvFilters, DeConvFilterSize, UnpoolSize, Activation=\"relu\", Padding=\"same\"):\n",
        "  Unpool1 = UpSampling2D(size = (UnpoolSize,UnpoolSize))(Input)\n",
        "  concat = Concatenate()([Unpool1, SkipConnections])\n",
        "  conv1 = Conv2D(NumDeConvFilters, DeConvFilterSize, activation = Activation, padding = Padding, kernel_initializer = 'he_normal')(concat)\n",
        "  conv2 = Conv2D(NumDeConvFilters, DeConvFilterSize, activation = Activation, padding = Padding, kernel_initializer = 'he_normal')(conv1)\n",
        "  return conv2\n",
        "\n",
        "def UpSample1(Input, SkipConnections, NumDeConvFilters, DeConvFilterSize, UnpoolSize, Activation=\"relu\", Padding=\"same\"):\n",
        "  Up1 = UpSample2(Input, SkipConnections, NumDeConvFilters, DeConvFilterSize, UnpoolSize, Activation, Padding)\n",
        "  return Conv2D(NumDeConvFilters, DeConvFilterSize, activation = Activation, padding = Padding, kernel_initializer = 'he_normal')(Up1)\n",
        "  \n",
        "def BottleNeck(Input, NumConvFilters, ConvFilterSize, Activation=\"relu\", Padding=\"same\"):\n",
        "  conv1 = Conv2D(NumConvFilters, ConvFilterSize, activation = Activation, padding = Padding, kernel_initializer = 'he_normal')(Input)\n",
        "  return Conv2D(NumConvFilters, ConvFilterSize, activation = Activation, padding = Padding, kernel_initializer = 'he_normal')(conv1)\n",
        "  \n",
        "  \n",
        "def MyModel(InputSize, NumberOfFilters = [8, 16, 32, 64, 128], FilterSize = 3, PoolSize = 2):\n",
        "  inputs = Input(InputSize)\n",
        "  #################################ENCODER NETWORK START########################\n",
        "  Skip1, DS1 = DownSample1(inputs, NumberOfFilters[0], FilterSize,PoolSize) # 120\n",
        "  Skip2, DS2 = DownSample1(DS1, NumberOfFilters[1], FilterSize,PoolSize) # 60\n",
        "  Skip3, DS3 = DownSample2(DS2, NumberOfFilters[2], FilterSize,PoolSize) #30\n",
        "  Skip4, DS4 = DownSample2(DS3, NumberOfFilters[3], FilterSize,PoolSize) #15\n",
        "  #Skip5, DS5 = DownSample2(DS4, 1024,3,2)\n",
        "  #################################ENCODER NETWORK END###########################\n",
        "  #################################BOTTLENECK START##############################\n",
        "  \n",
        "  BN = BottleNeck(DS4, NumberOfFilters[4], FilterSize)\n",
        "  \n",
        "  #################################BOTTLENECK END################################\n",
        "  #################################DECODER NETWORK START#########################\n",
        "  #US1=UpSample1(BN, Skip5,1024, 3, 2)\n",
        "  US2=UpSample1(BN, Skip4, NumberOfFilters[3], FilterSize, PoolSize)\n",
        "  US3=UpSample1(US2, Skip3, NumberOfFilters[2], FilterSize, PoolSize)\n",
        "  US4=UpSample2(US3, Skip2, NumberOfFilters[1], FilterSize, PoolSize)\n",
        "  US5=UpSample2(US4, Skip1, NumberOfFilters[0], FilterSize, PoolSize)\n",
        "  #################################DECODER NETWORK END###########################\n",
        "  #################################OUTPUT  LAYER START###########################\n",
        "  Out = Conv2D(1, 1, activation = 'sigmoid')(US5)\n",
        "  #################################OUTPUT LAYER END##############################\n",
        "  model = Model(input = inputs, output = Out)\n",
        "  \n",
        "  model.compile(optimizer = Adam(lr = 1e-4), loss = 'binary_crossentropy', metrics = ['accuracy'])\n",
        "  return model"
      ],
      "execution_count": 0,
      "outputs": []
    },
    {
      "cell_type": "code",
      "metadata": {
        "id": "eO5GjPcQ6yIs",
        "colab_type": "code",
        "colab": {}
      },
      "source": [
        "Folders = ReadDataset(PATH)\n",
        "\n",
        "Train, Test, Valid = Split(Folders, 0.8)\n",
        "TrainGenerator = MyGenerator(PATH, Train)\n",
        "ValidGenerator = MyGenerator(PATH, Valid)\n",
        "TestGenerator = MyGenerator(PATH, Test)\n",
        "#\n",
        "#Model.summary()\n",
        "#from keras.utils import plot_model\n",
        "#plot_model(Model, to_file='model.png')\n",
        "\n",
        "#\n",
        "#for Index, Folder in enumerate(Folders):\n",
        "#     AnimateSample(Folders[0], 0)\n"
      ],
      "execution_count": 0,
      "outputs": []
    },
    {
      "cell_type": "code",
      "metadata": {
        "id": "KvDIDZ3B0LdM",
        "colab_type": "code",
        "outputId": "7d07f686-2dc6-454e-a851-7faf8d5c759c",
        "colab": {
          "base_uri": "https://localhost:8080/",
          "height": 140
        }
      },
      "source": [
        "Train[0]\n",
        "DisplaySample(Train[100],0)"
      ],
      "execution_count": 17,
      "outputs": [
        {
          "output_type": "stream",
          "text": [
            "****IN: 1 PATH=/content/MICCAI_BraTS_2019_Data_Training/HGG/BraTS19_CBICA_ASA_1****\n"
          ],
          "name": "stdout"
        },
        {
          "output_type": "display_data",
          "data": {
            "image/png": "[encoded data removed]",
            "text/plain": [
              "<Figure size 432x288 with 5 Axes>"
            ]
          },
          "metadata": {
            "tags": []
          }
        }
      ]
    },
    {
      "cell_type": "code",
      "metadata": {
        "id": "smrJqUQYz8iK",
        "colab_type": "code",
        "outputId": "9dad1be7-0d0c-45e0-d3b1-148933f8c8f6",
        "colab": {
          "base_uri": "https://localhost:8080/",
          "height": 1000
        }
      },
      "source": [
        "Model=MyModel(InputSize = (240,240,4))\n",
        "print(Train[0])\n",
        "X, Y = TrainGenerator.__getitem__(0)\n",
        "Model.fit(X,Y, epochs=500)\n",
        "#Model.fit_generator(TrainGenerator, epochs = 10, validation_data=ValidGenerator)\n"
      ],
      "execution_count": 18,
      "outputs": [
        {
          "output_type": "stream",
          "text": [
            "WARNING:tensorflow:From /usr/local/lib/python3.6/dist-packages/keras/backend/tensorflow_backend.py:66: The name tf.get_default_graph is deprecated. Please use tf.compat.v1.get_default_graph instead.\n",
            "\n",
            "WARNING:tensorflow:From /usr/local/lib/python3.6/dist-packages/keras/backend/tensorflow_backend.py:541: The name tf.placeholder is deprecated. Please use tf.compat.v1.placeholder instead.\n",
            "\n",
            "WARNING:tensorflow:From /usr/local/lib/python3.6/dist-packages/keras/backend/tensorflow_backend.py:4479: The name tf.truncated_normal is deprecated. Please use tf.random.truncated_normal instead.\n",
            "\n",
            "WARNING:tensorflow:From /usr/local/lib/python3.6/dist-packages/keras/backend/tensorflow_backend.py:4267: The name tf.nn.max_pool is deprecated. Please use tf.nn.max_pool2d instead.\n",
            "\n",
            "WARNING:tensorflow:From /usr/local/lib/python3.6/dist-packages/keras/backend/tensorflow_backend.py:2239: The name tf.image.resize_nearest_neighbor is deprecated. Please use tf.compat.v1.image.resize_nearest_neighbor instead.\n",
            "\n",
            "WARNING:tensorflow:From /usr/local/lib/python3.6/dist-packages/keras/backend/tensorflow_backend.py:4432: The name tf.random_uniform is deprecated. Please use tf.random.uniform instead.\n",
            "\n",
            "WARNING:tensorflow:From /usr/local/lib/python3.6/dist-packages/keras/optimizers.py:793: The name tf.train.Optimizer is deprecated. Please use tf.compat.v1.train.Optimizer instead.\n",
            "\n",
            "WARNING:tensorflow:From /usr/local/lib/python3.6/dist-packages/keras/backend/tensorflow_backend.py:3657: The name tf.log is deprecated. Please use tf.math.log instead.\n",
            "\n",
            "WARNING:tensorflow:From /usr/local/lib/python3.6/dist-packages/tensorflow/python/ops/nn_impl.py:180: add_dispatch_support.<locals>.wrapper (from tensorflow.python.ops.array_ops) is deprecated and will be removed in a future version.\n",
            "Instructions for updating:\n",
            "Use tf.where in 2.0, which has the same broadcast rule as np.where\n",
            "BraTS19_TCIA04_149_1\n"
          ],
          "name": "stdout"
        },
        {
          "output_type": "stream",
          "text": [
            "/usr/local/lib/python3.6/dist-packages/ipykernel_launcher.py:51: UserWarning: Update your `Model` call to the Keras 2 API: `Model(inputs=Tensor(\"in..., outputs=Tensor(\"co...)`\n"
          ],
          "name": "stderr"
        },
        {
          "output_type": "stream",
          "text": [
            "Epoch 1/500\n",
            "155/155 [==============================] - 11s 70ms/step - loss: 0.6928 - acc: 0.7186\n",
            "Epoch 2/500\n",
            "155/155 [==============================] - 1s 6ms/step - loss: 0.6905 - acc: 0.9838\n",
            "Epoch 3/500\n",
            "155/155 [==============================] - 1s 6ms/step - loss: 0.6863 - acc: 0.9918\n",
            "Epoch 4/500\n",
            "155/155 [==============================] - 1s 6ms/step - loss: 0.6772 - acc: 0.9922\n",
            "Epoch 5/500\n",
            "155/155 [==============================] - 1s 6ms/step - loss: 0.6405 - acc: 0.9922\n",
            "Epoch 6/500\n",
            "155/155 [==============================] - 1s 6ms/step - loss: 0.5013 - acc: 0.9922\n",
            "Epoch 7/500\n",
            "155/155 [==============================] - 1s 6ms/step - loss: 0.1928 - acc: 0.9921\n",
            "Epoch 8/500\n",
            "155/155 [==============================] - 1s 6ms/step - loss: 0.0256 - acc: 0.9921\n",
            "Epoch 9/500\n",
            "155/155 [==============================] - 1s 6ms/step - loss: 0.0048 - acc: 0.9921\n",
            "Epoch 10/500\n",
            "155/155 [==============================] - 1s 6ms/step - loss: 0.0011 - acc: 0.9921\n",
            "Epoch 11/500\n",
            "155/155 [==============================] - 1s 6ms/step - loss: 3.4863e-04 - acc: 0.9921\n",
            "Epoch 12/500\n",
            "155/155 [==============================] - 1s 6ms/step - loss: 1.9418e-04 - acc: 0.9922\n",
            "Epoch 13/500\n",
            "155/155 [==============================] - 1s 6ms/step - loss: 1.4043e-04 - acc: 0.9922\n",
            "Epoch 14/500\n",
            "155/155 [==============================] - 1s 6ms/step - loss: 1.1376e-04 - acc: 0.9922\n",
            "Epoch 15/500\n",
            " 64/155 [===========>..................] - ETA: 0s - loss: 1.0189e-04 - acc: 0.9918"
          ],
          "name": "stdout"
        },
        {
          "output_type": "error",
          "ename": "KeyboardInterrupt",
          "evalue": "ignored",
          "traceback": [
            "\u001b[0;31m---------------------------------------------------------------------------\u001b[0m",
            "\u001b[0;31mKeyboardInterrupt\u001b[0m                         Traceback (most recent call last)",
            "\u001b[0;32m<ipython-input-18-81cd9b9faea0>\u001b[0m in \u001b[0;36m<module>\u001b[0;34m()\u001b[0m\n\u001b[1;32m      2\u001b[0m \u001b[0mprint\u001b[0m\u001b[0;34m(\u001b[0m\u001b[0mTrain\u001b[0m\u001b[0;34m[\u001b[0m\u001b[0;36m0\u001b[0m\u001b[0;34m]\u001b[0m\u001b[0;34m)\u001b[0m\u001b[0;34m\u001b[0m\u001b[0;34m\u001b[0m\u001b[0m\n\u001b[1;32m      3\u001b[0m \u001b[0mX\u001b[0m\u001b[0;34m,\u001b[0m \u001b[0mY\u001b[0m \u001b[0;34m=\u001b[0m \u001b[0mTrainGenerator\u001b[0m\u001b[0;34m.\u001b[0m\u001b[0m__getitem__\u001b[0m\u001b[0;34m(\u001b[0m\u001b[0;36m0\u001b[0m\u001b[0;34m)\u001b[0m\u001b[0;34m\u001b[0m\u001b[0;34m\u001b[0m\u001b[0m\n\u001b[0;32m----> 4\u001b[0;31m \u001b[0mModel\u001b[0m\u001b[0;34m.\u001b[0m\u001b[0mfit\u001b[0m\u001b[0;34m(\u001b[0m\u001b[0mX\u001b[0m\u001b[0;34m,\u001b[0m\u001b[0mY\u001b[0m\u001b[0;34m,\u001b[0m \u001b[0mepochs\u001b[0m\u001b[0;34m=\u001b[0m\u001b[0;36m500\u001b[0m\u001b[0;34m)\u001b[0m\u001b[0;34m\u001b[0m\u001b[0;34m\u001b[0m\u001b[0m\n\u001b[0m\u001b[1;32m      5\u001b[0m \u001b[0;31m#Model.fit_generator(TrainGenerator, epochs = 10, validation_data=ValidGenerator)\u001b[0m\u001b[0;34m\u001b[0m\u001b[0;34m\u001b[0m\u001b[0;34m\u001b[0m\u001b[0m\n",
            "\u001b[0;32m/usr/local/lib/python3.6/dist-packages/keras/engine/training.py\u001b[0m in \u001b[0;36mfit\u001b[0;34m(self, x, y, batch_size, epochs, verbose, callbacks, validation_split, validation_data, shuffle, class_weight, sample_weight, initial_epoch, steps_per_epoch, validation_steps, validation_freq, max_queue_size, workers, use_multiprocessing, **kwargs)\u001b[0m\n\u001b[1;32m   1176\u001b[0m                                         \u001b[0msteps_per_epoch\u001b[0m\u001b[0;34m=\u001b[0m\u001b[0msteps_per_epoch\u001b[0m\u001b[0;34m,\u001b[0m\u001b[0;34m\u001b[0m\u001b[0;34m\u001b[0m\u001b[0m\n\u001b[1;32m   1177\u001b[0m                                         \u001b[0mvalidation_steps\u001b[0m\u001b[0;34m=\u001b[0m\u001b[0mvalidation_steps\u001b[0m\u001b[0;34m,\u001b[0m\u001b[0;34m\u001b[0m\u001b[0;34m\u001b[0m\u001b[0m\n\u001b[0;32m-> 1178\u001b[0;31m                                         validation_freq=validation_freq)\n\u001b[0m\u001b[1;32m   1179\u001b[0m \u001b[0;34m\u001b[0m\u001b[0m\n\u001b[1;32m   1180\u001b[0m     def evaluate(self,\n",
            "\u001b[0;32m/usr/local/lib/python3.6/dist-packages/keras/engine/training_arrays.py\u001b[0m in \u001b[0;36mfit_loop\u001b[0;34m(model, fit_function, fit_inputs, out_labels, batch_size, epochs, verbose, callbacks, val_function, val_inputs, shuffle, callback_metrics, initial_epoch, steps_per_epoch, validation_steps, validation_freq)\u001b[0m\n\u001b[1;32m    192\u001b[0m                             fit_inputs[:-1], batch_ids) + [fit_inputs[-1]]\n\u001b[1;32m    193\u001b[0m                     \u001b[0;32melse\u001b[0m\u001b[0;34m:\u001b[0m\u001b[0;34m\u001b[0m\u001b[0;34m\u001b[0m\u001b[0m\n\u001b[0;32m--> 194\u001b[0;31m                         \u001b[0mins_batch\u001b[0m \u001b[0;34m=\u001b[0m \u001b[0mslice_arrays\u001b[0m\u001b[0;34m(\u001b[0m\u001b[0mfit_inputs\u001b[0m\u001b[0;34m,\u001b[0m \u001b[0mbatch_ids\u001b[0m\u001b[0;34m)\u001b[0m\u001b[0;34m\u001b[0m\u001b[0;34m\u001b[0m\u001b[0m\n\u001b[0m\u001b[1;32m    195\u001b[0m                 \u001b[0;32mexcept\u001b[0m \u001b[0mTypeError\u001b[0m\u001b[0;34m:\u001b[0m\u001b[0;34m\u001b[0m\u001b[0;34m\u001b[0m\u001b[0m\n\u001b[1;32m    196\u001b[0m                     raise TypeError('TypeError while preparing batch. '\n",
            "\u001b[0;32m/usr/local/lib/python3.6/dist-packages/keras/utils/generic_utils.py\u001b[0m in \u001b[0;36mslice_arrays\u001b[0;34m(arrays, start, stop)\u001b[0m\n\u001b[1;32m    553\u001b[0m             \u001b[0;32mif\u001b[0m \u001b[0mhasattr\u001b[0m\u001b[0;34m(\u001b[0m\u001b[0mstart\u001b[0m\u001b[0;34m,\u001b[0m \u001b[0;34m'shape'\u001b[0m\u001b[0;34m)\u001b[0m\u001b[0;34m:\u001b[0m\u001b[0;34m\u001b[0m\u001b[0;34m\u001b[0m\u001b[0m\n\u001b[1;32m    554\u001b[0m                 \u001b[0mstart\u001b[0m \u001b[0;34m=\u001b[0m \u001b[0mstart\u001b[0m\u001b[0;34m.\u001b[0m\u001b[0mtolist\u001b[0m\u001b[0;34m(\u001b[0m\u001b[0;34m)\u001b[0m\u001b[0;34m\u001b[0m\u001b[0;34m\u001b[0m\u001b[0m\n\u001b[0;32m--> 555\u001b[0;31m             \u001b[0;32mreturn\u001b[0m \u001b[0;34m[\u001b[0m\u001b[0;32mNone\u001b[0m \u001b[0;32mif\u001b[0m \u001b[0mx\u001b[0m \u001b[0;32mis\u001b[0m \u001b[0;32mNone\u001b[0m \u001b[0;32melse\u001b[0m \u001b[0mx\u001b[0m\u001b[0;34m[\u001b[0m\u001b[0mstart\u001b[0m\u001b[0;34m]\u001b[0m \u001b[0;32mfor\u001b[0m \u001b[0mx\u001b[0m \u001b[0;32min\u001b[0m \u001b[0marrays\u001b[0m\u001b[0;34m]\u001b[0m\u001b[0;34m\u001b[0m\u001b[0;34m\u001b[0m\u001b[0m\n\u001b[0m\u001b[1;32m    556\u001b[0m         \u001b[0;32melse\u001b[0m\u001b[0;34m:\u001b[0m\u001b[0;34m\u001b[0m\u001b[0;34m\u001b[0m\u001b[0m\n\u001b[1;32m    557\u001b[0m             \u001b[0;32mreturn\u001b[0m \u001b[0;34m[\u001b[0m\u001b[0;32mNone\u001b[0m \u001b[0;32mif\u001b[0m \u001b[0mx\u001b[0m \u001b[0;32mis\u001b[0m \u001b[0;32mNone\u001b[0m \u001b[0;32melse\u001b[0m \u001b[0mx\u001b[0m\u001b[0;34m[\u001b[0m\u001b[0mstart\u001b[0m\u001b[0;34m:\u001b[0m\u001b[0mstop\u001b[0m\u001b[0;34m]\u001b[0m \u001b[0;32mfor\u001b[0m \u001b[0mx\u001b[0m \u001b[0;32min\u001b[0m \u001b[0marrays\u001b[0m\u001b[0;34m]\u001b[0m\u001b[0;34m\u001b[0m\u001b[0;34m\u001b[0m\u001b[0m\n",
            "\u001b[0;32m/usr/local/lib/python3.6/dist-packages/keras/utils/generic_utils.py\u001b[0m in \u001b[0;36m<listcomp>\u001b[0;34m(.0)\u001b[0m\n\u001b[1;32m    553\u001b[0m             \u001b[0;32mif\u001b[0m \u001b[0mhasattr\u001b[0m\u001b[0;34m(\u001b[0m\u001b[0mstart\u001b[0m\u001b[0;34m,\u001b[0m \u001b[0;34m'shape'\u001b[0m\u001b[0;34m)\u001b[0m\u001b[0;34m:\u001b[0m\u001b[0;34m\u001b[0m\u001b[0;34m\u001b[0m\u001b[0m\n\u001b[1;32m    554\u001b[0m                 \u001b[0mstart\u001b[0m \u001b[0;34m=\u001b[0m \u001b[0mstart\u001b[0m\u001b[0;34m.\u001b[0m\u001b[0mtolist\u001b[0m\u001b[0;34m(\u001b[0m\u001b[0;34m)\u001b[0m\u001b[0;34m\u001b[0m\u001b[0;34m\u001b[0m\u001b[0m\n\u001b[0;32m--> 555\u001b[0;31m             \u001b[0;32mreturn\u001b[0m \u001b[0;34m[\u001b[0m\u001b[0;32mNone\u001b[0m \u001b[0;32mif\u001b[0m \u001b[0mx\u001b[0m \u001b[0;32mis\u001b[0m \u001b[0;32mNone\u001b[0m \u001b[0;32melse\u001b[0m \u001b[0mx\u001b[0m\u001b[0;34m[\u001b[0m\u001b[0mstart\u001b[0m\u001b[0;34m]\u001b[0m \u001b[0;32mfor\u001b[0m \u001b[0mx\u001b[0m \u001b[0;32min\u001b[0m \u001b[0marrays\u001b[0m\u001b[0;34m]\u001b[0m\u001b[0;34m\u001b[0m\u001b[0;34m\u001b[0m\u001b[0m\n\u001b[0m\u001b[1;32m    556\u001b[0m         \u001b[0;32melse\u001b[0m\u001b[0;34m:\u001b[0m\u001b[0;34m\u001b[0m\u001b[0;34m\u001b[0m\u001b[0m\n\u001b[1;32m    557\u001b[0m             \u001b[0;32mreturn\u001b[0m \u001b[0;34m[\u001b[0m\u001b[0;32mNone\u001b[0m \u001b[0;32mif\u001b[0m \u001b[0mx\u001b[0m \u001b[0;32mis\u001b[0m \u001b[0;32mNone\u001b[0m \u001b[0;32melse\u001b[0m \u001b[0mx\u001b[0m\u001b[0;34m[\u001b[0m\u001b[0mstart\u001b[0m\u001b[0;34m:\u001b[0m\u001b[0mstop\u001b[0m\u001b[0;34m]\u001b[0m \u001b[0;32mfor\u001b[0m \u001b[0mx\u001b[0m \u001b[0;32min\u001b[0m \u001b[0marrays\u001b[0m\u001b[0;34m]\u001b[0m\u001b[0;34m\u001b[0m\u001b[0;34m\u001b[0m\u001b[0m\n",
            "\u001b[0;31mKeyboardInterrupt\u001b[0m: "
          ]
        }
      ]
    },
    {
      "cell_type": "code",
      "metadata": {
        "id": "ahZ06P686QsJ",
        "colab_type": "code",
        "colab": {}
      },
      "source": [
        "#TestGenerator = MyGenerator(PATH, Test)\n",
        "#X, Y = TestGenerator.__getitem__(0)\n",
        "#raise ValueError(X.shape)\n",
        "\n",
        "Out = Model.predict(np.expand_dims(X[77,:,:,:],0))"
      ],
      "execution_count": 0,
      "outputs": []
    },
    {
      "cell_type": "code",
      "metadata": {
        "id": "I0AvlZkQ6YpW",
        "colab_type": "code",
        "outputId": "783269e8-3ab2-4ab7-c3dd-fb4d985b90e5",
        "colab": {
          "base_uri": "https://localhost:8080/",
          "height": 269
        }
      },
      "source": [
        "DisplayOutput(Out)"
      ],
      "execution_count": 21,
      "outputs": [
        {
          "output_type": "display_data",
          "data": {
            "image/png": "[encoded data removed]",
            "text/plain": [
              "<Figure size 432x288 with 1 Axes>"
            ]
          },
          "metadata": {
            "tags": []
          }
        }
      ]
    }
  ]
}