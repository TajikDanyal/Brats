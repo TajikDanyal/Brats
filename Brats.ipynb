{
  "nbformat": 4,
  "nbformat_minor": 0,
  "metadata": {
    "colab": {
      "name": "Untitled2.ipynb",
      "provenance": [],
      "collapsed_sections": [],
      "machine_shape": "hm",
      "include_colab_link": true
    },
    "kernelspec": {
      "name": "python3",
      "display_name": "Python 3"
    },
    "accelerator": "GPU"
  },
  "cells": [
    {
      "cell_type": "markdown",
      "metadata": {
        "id": "view-in-github",
        "colab_type": "text"
      },
      "source": [
        "<a href=\"https://colab.research.google.com/github/TajikDanyal/Brats/blob/master/Brats.ipynb\" target=\"_parent\"><img src=\"https://colab.research.google.com/assets/colab-badge.svg\" alt=\"Open In Colab\"/></a>"
      ]
    },
    {
      "cell_type": "code",
      "metadata": {
        "id": "BN02X5lxmliy",
        "colab_type": "code",
        "outputId": "0b0ac64d-0ec8-43d1-fb62-78c328d1e7d9",
        "colab": {
          "base_uri": "https://localhost:8080/",
          "height": 172
        }
      },
      "source": [
        "!wget https://www.cbica.upenn.edu/sbia/Spyridon.Bakas/MICCAI_BraTS/2019/MICCAI_BraTS_2019_Data_Training.zip"
      ],
      "execution_count": 0,
      "outputs": [
        {
          "output_type": "stream",
          "text": [
            "--2019-09-19 05:09:36--  https://www.cbica.upenn.edu/sbia/Spyridon.Bakas/MICCAI_BraTS/2019/MICCAI_BraTS_2019_Data_Training.zip\n",
            "Resolving www.cbica.upenn.edu (www.cbica.upenn.edu)... 165.123.244.124\n",
            "Connecting to www.cbica.upenn.edu (www.cbica.upenn.edu)|165.123.244.124|:443... connected.\n",
            "HTTP request sent, awaiting response... 200 OK\n",
            "Length: 2759083030 (2.6G) [application/zip]\n",
            "Saving to: ‘MICCAI_BraTS_2019_Data_Training.zip’\n",
            "\n",
            "a_Training.zip       65%[============>       ]   1.68G  36.1MB/s    eta 28s    "
          ],
          "name": "stdout"
        }
      ]
    },
    {
      "cell_type": "code",
      "metadata": {
        "id": "zYb1kQKmnCKv",
        "colab_type": "code",
        "colab": {}
      },
      "source": [
        "from zipfile import ZipFile\n",
        "zip = ZipFile('MICCAI_BraTS_2019_Data_Training.zip')\n",
        "zip.extractall()"
      ],
      "execution_count": 0,
      "outputs": []
    },
    {
      "cell_type": "code",
      "metadata": {
        "id": "Wn3roiMu51l8",
        "colab_type": "code",
        "colab": {}
      },
      "source": [
        "import os\n",
        "import numpy as np\n",
        "import nibabel as nib\n",
        "import random\n",
        "import matplotlib.pyplot as plt\n",
        "from keras.models import *\n",
        "from keras.layers import *\n",
        "from keras.optimizers import *\n",
        "from keras.callbacks import ModelCheckpoint, LearningRateScheduler\n",
        "from keras import backend as keras\n",
        "from keras.utils import Sequence\n",
        "import cv2"
      ],
      "execution_count": 0,
      "outputs": []
    },
    {
      "cell_type": "code",
      "metadata": {
        "id": "vs0GX9iM6Ttm",
        "colab_type": "code",
        "colab": {}
      },
      "source": [
        "PATH = \"/content/MICCAI_BraTS_2019_Data_Training/HGG/\""
      ],
      "execution_count": 0,
      "outputs": []
    },
    {
      "cell_type": "code",
      "metadata": {
        "id": "fDktqyUW6V7S",
        "colab_type": "code",
        "colab": {}
      },
      "source": [
        "class MyGenerator(Sequence):\n",
        "    def __init__(self, Path, Directory):\n",
        "        self.Path=Path\n",
        "        self.Folders=Directory\n",
        "    def __len__(self):\n",
        "        return len(self.Folders)\n",
        "    def __getitem__(self, idx):\n",
        "      return ReadImageDataFromFolderFiles(self.Folders[idx])\n",
        "       \n",
        "         "
      ],
      "execution_count": 0,
      "outputs": []
    },
    {
      "cell_type": "code",
      "metadata": {
        "id": "zqvHjyDP6ZXH",
        "colab_type": "code",
        "colab": {}
      },
      "source": [
        "def ReadDataset(Path):\n",
        "    return os.listdir(Path)"
      ],
      "execution_count": 0,
      "outputs": []
    },
    {
      "cell_type": "code",
      "metadata": {
        "id": "AncRWXyJ6dUN",
        "colab_type": "code",
        "colab": {}
      },
      "source": [
        "def SetLabel(FileName):\n",
        "    if\"t1.\" in FileName :\n",
        "        return \"T1\"\n",
        "    elif \"t1ce.\" in FileName:\n",
        "        return \"T1CE\"\n",
        "    elif \"seg.\" in FileName:\n",
        "        return \"Segmented\"\n",
        "    elif \"flair.\" in FileName:\n",
        "        return \"Flair\"\n",
        "    elif \"t2.\" in FileName:\n",
        "        return \"T2\"\n",
        "    return \"Undefined\""
      ],
      "execution_count": 0,
      "outputs": []
    },
    {
      "cell_type": "code",
      "metadata": {
        "id": "PSgENb7d6fze",
        "colab_type": "code",
        "colab": {}
      },
      "source": [
        "def ReadImageDataFromFolderFiles(FolderName):\n",
        "  \n",
        "    im_Size=240\n",
        "    Files = os.listdir(PATH+FolderName)\n",
        "    Files.sort()\n",
        "    Images = [nib.load( PATH+FolderName+\"/\"+File ).get_fdata() for File in Files]\n",
        "    XData = np.zeros( (Images[0].shape[2], im_Size, im_Size, 4) )\n",
        "    YData = np.zeros( (Images[0].shape[2], im_Size, im_Size, 1) )\n",
        "    for i in range(Images[0].shape[2]):\n",
        "        XData[i,:,:,0] = cv2.resize(Images[0][:,:,i], (im_Size,im_Size), interpolation = cv2.INTER_AREA) \n",
        "        XData[i,:,:,1] = cv2.resize(Images[2][:,:,i], (im_Size,im_Size), interpolation = cv2.INTER_AREA) \n",
        "        XData[i,:,:,2] = cv2.resize(Images[3][:,:,i], (im_Size,im_Size), interpolation = cv2.INTER_AREA) \n",
        "        XData[i,:,:,3] = cv2.resize(Images[4][:,:,i], (im_Size,im_Size), interpolation = cv2.INTER_AREA) \n",
        "        YData[i,:,:,0] = cv2.resize(Images[1][:,:,i], (im_Size,im_Size), interpolation = cv2.INTER_AREA) \n",
        "    return XData/65535, YData/65535"
      ],
      "execution_count": 0,
      "outputs": []
    },
    {
      "cell_type": "code",
      "metadata": {
        "id": "bi25WPTp6gjV",
        "colab_type": "code",
        "colab": {}
      },
      "source": [
        "def DisplaySample(FolderName, index):\n",
        "    print(\"****IN: \"+str(index+1)+\" PATH=\"+PATH+FolderName+\"****\")\n",
        "    Files = os.listdir(PATH+FolderName)\n",
        "    fig, axes = plt.subplots(1, len(Files))\n",
        "    count=0\n",
        "    TempFiles=Files\n",
        "    TempFiles.sort()\n",
        "    for File in Files:\n",
        "        img = nib.load(PATH+FolderName+\"/\"+File)\n",
        "        #print (img)\n",
        "        img_data = img.get_fdata()\n",
        "        #img_data = cv2.cvtColor(img, cv2.COLOR_BGR2GRAY)\n",
        "        #raise ValueError(img_data.shape)\n",
        "        axes[count].title.set_text(SetLabel(File))\n",
        "        axes[count].imshow(img_data[:,:,77].T, aspect=\"equal\",  interpolation='nearest', origin=\"lower\")\n",
        "        count+=1\n",
        "    plt.show()"
      ],
      "execution_count": 0,
      "outputs": []
    },
    {
      "cell_type": "code",
      "metadata": {
        "id": "iFdnE75x6n27",
        "colab_type": "code",
        "colab": {}
      },
      "source": [
        "def DisplayOutput(Predicted):\n",
        "  fig, axes = plt.subplots(1,1)\n",
        "  for i in range(0,Predicted.shape[0]):\n",
        "    plt.imshow(Predicted[i,:,:,0])\n",
        "    plt.show()\n",
        "        "
      ],
      "execution_count": 0,
      "outputs": []
    },
    {
      "cell_type": "code",
      "metadata": {
        "id": "HvS-IhTW6mSi",
        "colab_type": "code",
        "colab": {}
      },
      "source": [
        "def AnimateSample(FolderName, index):\n",
        "    print(\"****IN: \"+str(index+1)+\" PATH=\"+PATH+FolderName+\"****\")\n",
        "    Files = os.listdir(PATH+FolderName)\n",
        "    TempFiles=Files\n",
        "    TempFiles.sort()\n",
        "    for File in Files:\n",
        "        img = nib.load(PATH+FolderName+\"/\"+File)\n",
        "        img_data = img.get_fdata()\n",
        "        #raise ValueError()\n",
        "        \n",
        "        for i in range(img.shape[2]):\n",
        "            plt.imshow(img_data[:,:,i].T)\n",
        "            plt.title(File)\n",
        "            plt.show()\n"
      ],
      "execution_count": 0,
      "outputs": []
    },
    {
      "cell_type": "code",
      "metadata": {
        "id": "wdUKDRUw6o2O",
        "colab_type": "code",
        "colab": {}
      },
      "source": [
        "def Split(Folders, Ratio=0.8):\n",
        "    random.shuffle(Folders)\n",
        "    Train = []\n",
        "    Test = []\n",
        "    Valid = []\n",
        "    SplitPoint = int(Ratio*len(Folders))\n",
        "    Train = Folders[0:SplitPoint]\n",
        "    Test = Folders[SplitPoint:len(Folders)]\n",
        "    SplitPoint = int(Ratio*len(Train))\n",
        "    Valid = Train[SplitPoint:len(Train)]\n",
        "    Train = Train[0:SplitPoint]\n",
        "    return Train, Test, Valid"
      ],
      "execution_count": 0,
      "outputs": []
    },
    {
      "cell_type": "code",
      "metadata": {
        "id": "go-uSYvi6rNV",
        "colab_type": "code",
        "colab": {}
      },
      "source": [
        "def PreProcessAndPrepareDataset(Path):\n",
        "    Folders=ReadDataset(Path)\n",
        "    X = np.zeros((len(Folders),155*5,240,240))\n",
        "    for Folder in Folders:\n",
        "        ImageList = ReadImageDataFromFolderFiles(Folder)\n",
        "        ImageArray = np.asarray(ImageList)\n",
        "        print(ImageArray.shape)\n",
        "        ImageArray = ImageArray.reshape((155*5,240,240))\n",
        "        raise ValueError(ImageArray.shape)"
      ],
      "execution_count": 0,
      "outputs": []
    },
    {
      "cell_type": "code",
      "metadata": {
        "id": "IhK9uv166uR2",
        "colab_type": "code",
        "colab": {}
      },
      "source": [
        "def unet(pretrained_weights = None,input_size = (240, 240, 4)):\n",
        "    inputs = Input(input_size)\n",
        "    conv1 = Conv2D(64, 3, activation = 'relu', padding = 'same', kernel_initializer = 'he_normal')(inputs)\n",
        "    conv1 = Conv2D(64, 3, activation = 'relu', padding = 'same', kernel_initializer = 'he_normal')(conv1)\n",
        "    pool1 = MaxPooling2D(pool_size=(2, 2))(conv1)\n",
        "    conv2 = Conv2D(128, 3, activation = 'relu', padding = 'same', kernel_initializer = 'he_normal')(pool1)\n",
        "    conv2 = Conv2D(128, 3, activation = 'relu', padding = 'same', kernel_initializer = 'he_normal')(conv2)\n",
        "    pool2 = MaxPooling2D(pool_size=(2, 2))(conv2)\n",
        "    conv3 = Conv2D(256, 3, activation = 'relu', padding = 'same', kernel_initializer = 'he_normal')(pool2)\n",
        "    conv3 = Conv2D(256, 3, activation = 'relu', padding = 'same', kernel_initializer = 'he_normal')(conv3)\n",
        "    pool3 = MaxPooling2D(pool_size=(2, 2))(conv3)\n",
        "    conv4 = Conv2D(512, 3, activation = 'relu', padding = 'same', kernel_initializer = 'he_normal')(pool3)\n",
        "    conv4 = Conv2D(512, 3, activation = 'relu', padding = 'same', kernel_initializer = 'he_normal')(conv4)\n",
        "    drop4 = Dropout(0.5)(conv4)\n",
        "    pool4 = MaxPooling2D(pool_size=(2, 2))(drop4)\n",
        "\n",
        "    conv5 = Conv2D(1024, 3, activation = 'relu', padding = 'same', kernel_initializer = 'he_normal')(pool4)\n",
        "    conv5 = Conv2D(1024, 3, activation = 'relu', padding = 'same', kernel_initializer = 'he_normal')(conv5)\n",
        "    drop5 = Dropout(0.5)(conv5)\n",
        "\n",
        "    up6 = Conv2D(512, 2, activation = 'relu', padding = 'same', kernel_initializer = 'he_normal')(UpSampling2D(size = (2,2))(drop5))\n",
        "    \n",
        "    merge6 = concatenate([drop4,up6], axis = 3)\n",
        "    conv6 = Conv2D(512, 3, activation = 'relu', padding = 'same', kernel_initializer = 'he_normal')(merge6)\n",
        "    conv6 = Conv2D(512, 3, activation = 'relu', padding = 'same', kernel_initializer = 'he_normal')(conv6)\n",
        "\n",
        "    up7 = Conv2D(256, 2, activation = 'relu', padding = 'same', kernel_initializer = 'he_normal')(UpSampling2D(size = (2,2))(conv6))\n",
        "    merge7 = concatenate([conv3,up7], axis = 3)\n",
        "    conv7 = Conv2D(256, 3, activation = 'relu', padding = 'same', kernel_initializer = 'he_normal')(merge7)\n",
        "    conv7 = Conv2D(256, 3, activation = 'relu', padding = 'same', kernel_initializer = 'he_normal')(conv7)\n",
        "\n",
        "    up8 = Conv2D(128, 2, activation = 'relu', padding = 'same', kernel_initializer = 'he_normal')(UpSampling2D(size = (2,2))(conv7))\n",
        "    merge8 = concatenate([conv2,up8], axis = 3)\n",
        "    conv8 = Conv2D(128, 3, activation = 'relu', padding = 'same', kernel_initializer = 'he_normal')(merge8)\n",
        "    conv8 = Conv2D(128, 3, activation = 'relu', padding = 'same', kernel_initializer = 'he_normal')(conv8)\n",
        "\n",
        "    up9 = Conv2D(64, 2, activation = 'relu', padding = 'same', kernel_initializer = 'he_normal')(UpSampling2D(size = (2,2))(conv8))\n",
        "    merge9 = concatenate([conv1,up9], axis = 3)\n",
        "    conv9 = Conv2D(64, 3, activation = 'relu', padding = 'same', kernel_initializer = 'he_normal')(merge9)\n",
        "    conv9 = Conv2D(64, 3, activation = 'relu', padding = 'same', kernel_initializer = 'he_normal')(conv9)\n",
        "    conv9 = Conv2D(2, 3, activation = 'relu', padding = 'same', kernel_initializer = 'he_normal')(conv9)\n",
        "    conv10 = Conv2D(1, 1, activation = 'sigmoid')(conv9)\n",
        "\n",
        "    model = Model(input = inputs, output = conv10)\n",
        "\n",
        "    model.compile(optimizer = Adam(lr = 1e-4), loss = 'binary_crossentropy', metrics = ['accuracy'])\n",
        "\n",
        "        \n",
        "    return model\n"
      ],
      "execution_count": 0,
      "outputs": []
    },
    {
      "cell_type": "code",
      "metadata": {
        "id": "U8tSRXy381r3",
        "colab_type": "code",
        "colab": {}
      },
      "source": [
        "def DownSample1(Input, NumConvFilters, ConvFilterSize, MaxPoolSize, Activation=\"relu\", Padding=\"same\"):\n",
        "  conv1 = Conv2D(NumConvFilters, ConvFilterSize, activation = Activation, padding = Padding, kernel_initializer = 'he_normal')(Input)\n",
        "  conv2 = Conv2D(NumConvFilters, ConvFilterSize, activation = Activation, padding = Padding, kernel_initializer = 'he_normal')(conv1)\n",
        "  pool1 = MaxPooling2D(pool_size=(MaxPoolSize, MaxPoolSize))(conv2)\n",
        "  return conv2, pool1\n",
        "\n",
        "def DownSample2(Input, NumConvFilters, ConvFilterSize, MaxPoolSize, Activation=\"relu\", Padding=\"same\"):\n",
        "  conv1 = Conv2D(NumConvFilters, ConvFilterSize, activation = Activation, padding = Padding, kernel_initializer = 'he_normal')(Input)\n",
        "  return DownSample1(conv1, NumConvFilters, ConvFilterSize, MaxPoolSize, Activation, Padding)\n",
        "   \n",
        "def UpSample2(Input, SkipConnections, NumDeConvFilters, DeConvFilterSize, UnpoolSize, Activation=\"relu\", Padding=\"same\"):\n",
        "  Unpool1 = UpSampling2D(size = (UnpoolSize,UnpoolSize))(Input)\n",
        "  concat = Concatenate()([Unpool1, SkipConnections])\n",
        "  conv1 = Conv2D(NumDeConvFilters, DeConvFilterSize, activation = Activation, padding = Padding, kernel_initializer = 'he_normal')(concat)\n",
        "  conv2 = Conv2D(NumDeConvFilters, DeConvFilterSize, activation = Activation, padding = Padding, kernel_initializer = 'he_normal')(conv1)\n",
        "  return conv2\n",
        "\n",
        "def UpSample1(Input, SkipConnections, NumDeConvFilters, DeConvFilterSize, UnpoolSize, Activation=\"relu\", Padding=\"same\"):\n",
        "  Up1 = UpSample2(Input, SkipConnections, NumDeConvFilters, DeConvFilterSize, UnpoolSize, Activation, Padding)\n",
        "  return Conv2D(NumDeConvFilters, DeConvFilterSize, activation = Activation, padding = Padding, kernel_initializer = 'he_normal')(Up1)\n",
        "  \n",
        "def BottleNeck(Input, NumConvFilters, ConvFilterSize, Activation=\"relu\", Padding=\"same\"):\n",
        "  conv1 = Conv2D(NumConvFilters, ConvFilterSize, activation = Activation, padding = Padding, kernel_initializer = 'he_normal')(Input)\n",
        "  return Conv2D(NumConvFilters, ConvFilterSize, activation = Activation, padding = Padding, kernel_initializer = 'he_normal')(conv1)\n",
        "  \n",
        "  \n",
        "def MyModel(InputSize, NumberOfFilters = [8, 16, 32, 64, 128], FilterSize = 3, PoolSize = 2):\n",
        "  inputs = Input(InputSize)\n",
        "  #################################ENCODER NETWORK START########################\n",
        "  Skip1, DS1 = DownSample1(inputs, NumberOfFilters[0], FilterSize,PoolSize) # 120\n",
        "  Skip2, DS2 = DownSample1(DS1, NumberOfFilters[1], FilterSize,PoolSize) # 60\n",
        "  Skip3, DS3 = DownSample2(DS2, NumberOfFilters[2], FilterSize,PoolSize) #30\n",
        "  Skip4, DS4 = DownSample2(DS3, NumberOfFilters[3], FilterSize,PoolSize) #15\n",
        "  #Skip5, DS5 = DownSample2(DS4, 1024,3,2)\n",
        "  #################################ENCODER NETWORK END###########################\n",
        "  #################################BOTTLENECK START##############################\n",
        "  \n",
        "  BN = BottleNeck(DS4, NumberOfFilters[4], FilterSize)\n",
        "  \n",
        "  #################################BOTTLENECK END################################\n",
        "  #################################DECODER NETWORK START#########################\n",
        "  #US1=UpSample1(BN, Skip5,1024, 3, 2)\n",
        "  US2=UpSample1(BN, Skip4, NumberOfFilters[3], FilterSize, PoolSize)\n",
        "  US3=UpSample1(US2, Skip3, NumberOfFilters[2], FilterSize, PoolSize)\n",
        "  US4=UpSample2(US3, Skip2, NumberOfFilters[1], FilterSize, PoolSize)\n",
        "  US5=UpSample2(US4, Skip1, NumberOfFilters[0], FilterSize, PoolSize)\n",
        "  #################################DECODER NETWORK END###########################\n",
        "  #################################OUTPUT  LAYER START###########################\n",
        "  Out = Conv2D(1, 1, activation = 'sigmoid')(US5)\n",
        "  #################################OUTPUT LAYER END##############################\n",
        "  model = Model(input = inputs, output = Out)\n",
        "  \n",
        "  model.compile(optimizer = Adam(lr = 1e-4), loss = 'binary_crossentropy', metrics = ['accuracy'])\n",
        "  return model"
      ],
      "execution_count": 0,
      "outputs": []
    },
    {
      "cell_type": "code",
      "metadata": {
        "id": "eO5GjPcQ6yIs",
        "colab_type": "code",
        "colab": {}
      },
      "source": [
        "Folders = ReadDataset(PATH)\n",
        "\n",
        "Train, Test, Valid = Split(Folders, 0.8)\n",
        "TrainGenerator = MyGenerator(PATH, Train)\n",
        "ValidGenerator = MyGenerator(PATH, Valid)\n",
        "TestGenerator = MyGenerator(PATH, Test)\n",
        "#\n",
        "#Model.summary()\n",
        "#from keras.utils import plot_model\n",
        "#plot_model(Model, to_file='model.png')\n",
        "\n",
        "#\n",
        "#for Index, Folder in enumerate(Folders):\n",
        "#     AnimateSample(Folders[0], 0)\n"
      ],
      "execution_count": 0,
      "outputs": []
    },
    {
      "cell_type": "code",
      "metadata": {
        "id": "KvDIDZ3B0LdM",
        "colab_type": "code",
        "colab": {}
      },
      "source": [
        "Train[0]\n",
        "DisplaySample(Train[100],0)"
      ],
      "execution_count": 0,
      "outputs": []
    },
    {
      "cell_type": "code",
      "metadata": {
        "id": "smrJqUQYz8iK",
        "colab_type": "code",
        "colab": {}
      },
      "source": [
        "Model=MyModel(InputSize = (240,240,4))\n",
        "print(Train[0])\n",
        "X, Y = TrainGenerator.__getitem__(0)\n",
        "Model.fit(X,Y, epochs=500)\n",
        "#Model.fit_generator(TrainGenerator, epochs = 10, validation_data=ValidGenerator)\n"
      ],
      "execution_count": 0,
      "outputs": []
    },
    {
      "cell_type": "code",
      "metadata": {
        "id": "ahZ06P686QsJ",
        "colab_type": "code",
        "colab": {}
      },
      "source": [
        "#TestGenerator = MyGenerator(PATH, Test)\n",
        "#X, Y = TestGenerator.__getitem__(0)\n",
        "#raise ValueError(X.shape)\n",
        "\n",
        "Out = Model.predict(np.expand_dims(X[77,:,:,:],0))"
      ],
      "execution_count": 0,
      "outputs": []
    },
    {
      "cell_type": "code",
      "metadata": {
        "id": "I0AvlZkQ6YpW",
        "colab_type": "code",
        "colab": {}
      },
      "source": [
        "DisplayOutput(Out*65535)"
      ],
      "execution_count": 0,
      "outputs": []
    }
  ]
}