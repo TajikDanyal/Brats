{
  "nbformat": 4,
  "nbformat_minor": 0,
  "metadata": {
    "colab": {
      "name": "ResuNet.ipynb",
      "provenance": [],
      "collapsed_sections": [],
      "machine_shape": "hm",
      "include_colab_link": true
    },
    "kernelspec": {
      "name": "python3",
      "display_name": "Python 3"
    },
    "accelerator": "GPU"
  },
  "cells": [
    {
      "cell_type": "markdown",
      "metadata": {
        "id": "view-in-github",
        "colab_type": "text"
      },
      "source": [
        "<a href=\"https://colab.research.google.com/github/TajikDanyal/Brats/blob/master/ResuNet.ipynb\" target=\"_parent\"><img src=\"https://colab.research.google.com/assets/colab-badge.svg\" alt=\"Open In Colab\"/></a>"
      ]
    },
    {
      "cell_type": "code",
      "metadata": {
        "id": "BN02X5lxmliy",
        "colab_type": "code",
        "colab": {}
      },
      "source": [
        "# !wget https://www.cbica.upenn.edu/sbia/Spyridon.Bakas/MICCAI_BraTS/2019/MICCAI_BraTS_2019_Data_Training.zip\n",
        "# from zipfile import ZipFile\n",
        "# zip = ZipFile('MICCAI_BraTS_2019_Data_Training.zip')\n",
        "# zip.extractall()"
      ],
      "execution_count": 0,
      "outputs": []
    },
    {
      "cell_type": "code",
      "metadata": {
        "id": "Wn3roiMu51l8",
        "colab_type": "code",
        "colab": {}
      },
      "source": [
        "import os\n",
        "import numpy as np\n",
        "import nibabel as nib\n",
        "import random\n",
        "import matplotlib.pyplot as plt\n",
        "from keras.models import *\n",
        "from keras.layers import *\n",
        "from keras.optimizers import *\n",
        "from keras.callbacks import ModelCheckpoint, LearningRateScheduler\n",
        "from keras import backend as keras\n",
        "from keras.utils import Sequence\n",
        "import cv2\n",
        "import math\n",
        "np.set_printoptions(suppress=True)"
      ],
      "execution_count": 0,
      "outputs": []
    },
    {
      "cell_type": "code",
      "metadata": {
        "id": "vs0GX9iM6Ttm",
        "colab_type": "code",
        "colab": {}
      },
      "source": [
        "PATH = \"/content/MICCAI_BraTS_2019_Data_Training/HGG/\""
      ],
      "execution_count": 0,
      "outputs": []
    },
    {
      "cell_type": "code",
      "metadata": {
        "id": "fDktqyUW6V7S",
        "colab_type": "code",
        "colab": {}
      },
      "source": [
        "class MyGenerator(Sequence):\n",
        "    def __init__(self, Path, Directories):\n",
        "        self.Path=Path\n",
        "        self.Folders=Directories\n",
        "    def __len__(self):\n",
        "        return len(self.Folders)\n",
        "    def __getitem__(self, idx):\n",
        "      return ReadImageDataFromFolderFilesSingle(self.Folders[idx],idx)"
      ],
      "execution_count": 0,
      "outputs": []
    },
    {
      "cell_type": "code",
      "metadata": {
        "id": "zqvHjyDP6ZXH",
        "colab_type": "code",
        "colab": {}
      },
      "source": [
        "def ReadDataset(Path):\n",
        "    return os.listdir(Path)"
      ],
      "execution_count": 0,
      "outputs": []
    },
    {
      "cell_type": "code",
      "metadata": {
        "id": "wdUKDRUw6o2O",
        "colab_type": "code",
        "colab": {}
      },
      "source": [
        "def Split(Folders, Ratio=0.8):\n",
        "    random.shuffle(Folders)\n",
        "    Train = []\n",
        "    Test = []\n",
        "    Valid = []\n",
        "    SplitPoint = int(Ratio*len(Folders))\n",
        "    Train = Folders[0:SplitPoint]\n",
        "    Test = Folders[SplitPoint:len(Folders)]\n",
        "    SplitPoint = int(Ratio*len(Train))\n",
        "    Valid = Train[SplitPoint:len(Train)]\n",
        "    Train = Train[0:SplitPoint]\n",
        "    return Train, Test, Valid"
      ],
      "execution_count": 0,
      "outputs": []
    },
    {
      "cell_type": "code",
      "metadata": {
        "id": "fsVdQqmHI_NW",
        "colab_type": "code",
        "colab": {}
      },
      "source": [
        "Folders = ReadDataset(PATH)\n",
        "Train,Test,Valid = Split(Folders)\n",
        "def CustomGenerator():\n",
        "  count = 0\n",
        "  folder_count = 0\n",
        "  while(True):\n",
        "    yield ReadImageDataFromFolderFilesSingle(Train[folder_count], count)\n",
        "    count = count + 1\n",
        "    if count is 31:\n",
        "      count = 0\n",
        "      folder_count = folder_count + 1\n"
      ],
      "execution_count": 0,
      "outputs": []
    },
    {
      "cell_type": "code",
      "metadata": {
        "id": "AncRWXyJ6dUN",
        "colab_type": "code",
        "colab": {}
      },
      "source": [
        "def SetLabel(FileName):\n",
        "    if\"t1.\" in FileName :\n",
        "        return \"T1\"\n",
        "    elif \"t1ce.\" in FileName:\n",
        "        return \"T1CE\"\n",
        "    elif \"seg.\" in FileName:\n",
        "        return \"Segmented\"\n",
        "    elif \"flair.\" in FileName:\n",
        "        return \"Flair\"\n",
        "    elif \"t2.\" in FileName:\n",
        "        return \"T2\"\n",
        "    return \"Undefined\""
      ],
      "execution_count": 0,
      "outputs": []
    },
    {
      "cell_type": "code",
      "metadata": {
        "id": "PSgENb7d6fze",
        "colab_type": "code",
        "colab": {}
      },
      "source": [
        "def ReadImageDataFromFolderFiles(FolderName):\n",
        "  \n",
        "    Files = os.listdir(PATH+FolderName)\n",
        "    Files.sort()\n",
        "    Images = [nib.load( PATH+FolderName+\"/\"+File ).get_fdata() for File in Files]\n",
        "    XData = np.zeros( (Images[0].shape[2], Images[0].shape[0], Images[0].shape[1], 4) )\n",
        "    YData = np.zeros( (Images[0].shape[2], Images[0].shape[0], Images[0].shape[1], 1) )\n",
        "    for i in range(Images[0].shape[2]):\n",
        "        XData[i,:,:,0] = Images[0][:,:,i] \n",
        "        XData[i,:,:,1] = Images[2][:,:,i] \n",
        "        XData[i,:,:,2] = Images[3][:,:,i] \n",
        "        XData[i,:,:,3] = Images[4][:,:,i] \n",
        "        YData[i,:,:,0] = Images[1][:,:,i] \n",
        "    return XData/65535, YData/4"
      ],
      "execution_count": 0,
      "outputs": []
    },
    {
      "cell_type": "code",
      "metadata": {
        "id": "3YPpMXUHneyX",
        "colab_type": "code",
        "colab": {}
      },
      "source": [
        "def ReadImageDataFromFolderFilesSingle(FolderName, idx):\n",
        "  \n",
        "    Files = os.listdir(PATH+FolderName)\n",
        "    Files.sort()\n",
        "    XData = nib.load( PATH+FolderName+\"/\"+Files[0] ).get_fdata()\n",
        "    YData = nib.load( PATH+FolderName+\"/\"+Files[1] ).get_fdata()\n",
        "    YDataC = np.zeros( (YData.shape[2], YData.shape[0], YData.shape[1]) )\n",
        "    XDataC = np.zeros( (XData.shape[2], XData.shape[0], XData.shape[1]) )\n",
        "    for Index in range(YData.shape[2]):\n",
        "      YDataC[Index,:,:] = YData[:,:, Index]\n",
        "      XDataC[Index,:,:] = XData[:,:, Index]\n",
        "    #DisplayOutputSingle(XDataC[77,:,:],YDataC[77,:,:])\n",
        "    #raise ValueError(YDataC.dtype)\n",
        "    YDataC = np.expand_dims(YDataC,3)\n",
        "    XDataC = np.expand_dims(XDataC,3)#[idx*5:(idx+1)*5-1,:,:,:]\n",
        "    return (XDataC/65535)[idx*5:(idx+1)*5-1,:,:,:], (YDataC/65535)[idx*5:(idx+1)*5-1,:,:,:]"
      ],
      "execution_count": 0,
      "outputs": []
    },
    {
      "cell_type": "code",
      "metadata": {
        "id": "bi25WPTp6gjV",
        "colab_type": "code",
        "colab": {}
      },
      "source": [
        "def DisplaySample(FolderName, index):\n",
        "    print(\"****IN: \"+str(index+1)+\" PATH=\"+PATH+FolderName+\"****\")\n",
        "    Files = os.listdir(PATH+FolderName)\n",
        "    fig, axes = plt.subplots(1, len(Files))\n",
        "    count=0\n",
        "    TempFiles=Files3\n",
        "    TempFiles.sort()\n",
        "    for File in Files:\n",
        "        img = nib.load(PATH+FolderName+\"/\"+File)\n",
        "        #print (img)\n",
        "        img_data = img.get_fdata()\n",
        "        #img_data = cv2.cvtColor(img, cv2.COLOR_BGR2GRAY)\n",
        "        #raise ValueError(img_data.shape)\n",
        "        axes[count].title.set_text(SetLabel(File))\n",
        "        axes[count].imshow(img_data[:,:,77].T, aspect=\"equal\",  interpolation='nearest', origin=\"lower\")\n",
        "        count+=1\n",
        "    plt.show()"
      ],
      "execution_count": 0,
      "outputs": []
    },
    {
      "cell_type": "code",
      "metadata": {
        "id": "iFdnE75x6n27",
        "colab_type": "code",
        "colab": {}
      },
      "source": [
        "def DisplayOutput(Predicted):\n",
        "  fig, axes = plt.subplots(1,1)\n",
        "  for i in range(0,Predicted.shape[0]):\n",
        "    plt.imshow(Predicted[i,:,:,0])\n",
        "    plt.show()\n",
        "        "
      ],
      "execution_count": 0,
      "outputs": []
    },
    {
      "cell_type": "code",
      "metadata": {
        "id": "KmyNC0W4x2AK",
        "colab_type": "code",
        "colab": {}
      },
      "source": [
        "def DisplayOutputSingle(Predicted, GroundTruth):\n",
        "  #raise ValueError(Predicted.shape, GroundTruth.shape)\n",
        "  fig, axes = plt.subplots(1,2)\n",
        "  axes[0].imshow(Predicted.T)\n",
        "  axes[1].imshow(GroundTruth.T)\n",
        "  plt.show()\n",
        "        "
      ],
      "execution_count": 0,
      "outputs": []
    },
    {
      "cell_type": "code",
      "metadata": {
        "id": "HvS-IhTW6mSi",
        "colab_type": "code",
        "colab": {}
      },
      "source": [
        "def AnimateSample(FolderName, index):\n",
        "    print(\"****IN: \"+str(index+1)+\" PATH=\"+PATH+FolderName+\"****\")\n",
        "    Files = os.listdir(PATH+FolderName)\n",
        "    TempFiles=Files\n",
        "    TempFiles.sort()\n",
        "    for File in Files:\n",
        "        img = nib.load(PATH+FolderName+\"/\"+File)\n",
        "        img_data = img.get_fdata()\n",
        "        #raise ValueError()\n",
        "        \n",
        "        for i in range(img.shape[2]):\n",
        "            plt.imshow(img_data[:,:,i].T)\n",
        "            plt.title(File)\n",
        "            plt.show()\n"
      ],
      "execution_count": 0,
      "outputs": []
    },
    {
      "cell_type": "code",
      "metadata": {
        "id": "go-uSYvi6rNV",
        "colab_type": "code",
        "colab": {}
      },
      "source": [
        "def PreProcessAndPrepareDataset(Path):\n",
        "    Folders=ReadDataset(Path)\n",
        "    X = np.zeros((len(Folders),155*5,240,240))\n",
        "    for Folder in Folders:\n",
        "        ImageList = ReadImageDataFromFolderFiles(Folder)\n",
        "        ImageArray = np.asarray(ImageList)\n",
        "        print(ImageArray.shape)\n",
        "        ImageArray = ImageArray.reshape((155*5,240,240))\n",
        "        raise ValueError(ImageArray.shape)"
      ],
      "execution_count": 0,
      "outputs": []
    },
    {
      "cell_type": "code",
      "metadata": {
        "id": "U8tSRXy381r3",
        "colab_type": "code",
        "colab": {}
      },
      "source": [
        "kernel = 'he_normal'\n",
        "def DownSample1(Input, NumConvFilters, ConvFilterSize, MaxPoolSize, activation=\"relu\", Padding=\"same\"):\n",
        "  conv1 = Conv2D(NumConvFilters, ConvFilterSize, activation = activation, padding = Padding, kernel_initializer=kernel)(Input)\n",
        "  batchn1 = BatchNormalization()(conv1)\n",
        "  act1 = Activation(activation = activation)(batchn1)\n",
        "  conv2 = Conv2D(NumConvFilters, ConvFilterSize, padding = Padding, kernel_initializer=kernel)(act1)\n",
        "  batchn2 = BatchNormalization()(conv2)\n",
        "  act2 = Activation(activation = activation)(batchn2)\n",
        "  pool1 = MaxPooling2D(pool_size=(MaxPoolSize, MaxPoolSize))(act2)\n",
        "  return act2, pool1\n",
        "\n",
        "def DownSample2(Input, NumConvFilters, ConvFilterSize, MaxPoolSize, activation=\"relu\", Padding=\"same\"):\n",
        "  conv1 = Conv2D(NumConvFilters, ConvFilterSize, padding = Padding, kernel_initializer=kernel)(Input)\n",
        "  batchn1 = BatchNormalization()(conv1)\n",
        "  act1 = Activation(activation = activation)(batchn1)\n",
        "  return DownSample1(act1, NumConvFilters, ConvFilterSize, MaxPoolSize, activation, Padding)\n",
        "   \n",
        "def UpSample2(Input, SkipConnections, NumDeConvFilters, DeConvFilterSize, UnpoolSize, activation=\"relu\", Padding=\"same\"):\n",
        "  Unpool1 = UpSampling2D(size = (UnpoolSize,UnpoolSize))(Input)\n",
        "  concat = Concatenate()([SkipConnections, Unpool1])\n",
        "  conv1 = Deconvolution2D(NumDeConvFilters, DeConvFilterSize, padding = Padding, kernel_initializer=kernel)(concat)\n",
        "  batchn1 = BatchNormalization()(conv1)\n",
        "  act1 = Activation(activation = activation)(batchn1)\n",
        "  conv2 = Deconvolution2D(NumDeConvFilters, DeConvFilterSize, padding = Padding, kernel_initializer=kernel)(act1)\n",
        "  batchn2 = BatchNormalization()(conv2)\n",
        "  return Activation(activation = activation)(batchn2)\n",
        "\n",
        "def UpSample1(Input, SkipConnections, NumDeConvFilters, DeConvFilterSize, UnpoolSize, activation=\"relu\", Padding=\"same\"):\n",
        "  Up1 = UpSample2(Input, SkipConnections, NumDeConvFilters, DeConvFilterSize, UnpoolSize, activation, Padding)\n",
        "  updeconv = Deconvolution2D(NumDeConvFilters, DeConvFilterSize, padding = Padding, kernel_initializer=kernel)(Up1)\n",
        "  batchn1= BatchNormalization()(updeconv)\n",
        "  return Activation(activation = activation)(batchn1)\n",
        "\n",
        "\n",
        "  \n",
        "def BottleNeck(Input, NumConvFilters, ConvFilterSize, activation=\"relu\", Padding=\"same\"):\n",
        "  conv1 = Conv2D(NumConvFilters, ConvFilterSize, padding = Padding, kernel_initializer=kernel)(Input)\n",
        "  batchn1 = BatchNormalization()(conv1)\n",
        "  act1 = Activation(activation = activation)(batchn1)\n",
        "  conv2 = Conv2D(NumConvFilters, ConvFilterSize, padding = Padding, kernel_initializer=kernel)(act1)\n",
        "  batchn2 = BatchNormalization()(conv2)\n",
        "  return batchn2\n",
        "  \n",
        "  \n",
        "def MyModel(InputSize, NumberOfFilters = [ 32,64, 128, 256, 512, 1024], FilterSize = 3, PoolSize = 2):\n",
        "  inputs = Input(InputSize)\n",
        "  #################################ENCODER NETWORK START########################\n",
        "  Skip1, DS1 = DownSample1(inputs, NumberOfFilters[0], FilterSize,PoolSize) # 120\n",
        "  #DisplayOutputSingle(Skip1[2,:,:,0],Skip1[3,:,:,0] )\n",
        "  Skip2, DS2 = DownSample2(DS1, NumberOfFilters[1], FilterSize,PoolSize) # 60\n",
        "  Skip3, DS3 = DownSample2(DS2, NumberOfFilters[2], FilterSize,PoolSize) #30\n",
        "  Skip4, DS4 = DownSample2(DS3, NumberOfFilters[3], FilterSize,PoolSize) #15\n",
        "  # Skip5, DS5 = DownSample2(DS4, NumberOfFilters[4],3,3)\n",
        "  #################################ENCODER NETWORK END###########################\n",
        "  #################################BOTTLENECK START##############################\n",
        "  \n",
        "  BN = BottleNeck(DS4, NumberOfFilters[5], FilterSize)\n",
        "  \n",
        "  #################################BOTTLENECK END################################\n",
        "  #################################DECODER NETWORK START#########################\n",
        "  # US1=UpSample1(BN, Skip5,NumberOfFilters[4], 3, 1)\n",
        "  US2=UpSample1(BN, Skip4, NumberOfFilters[3], FilterSize, PoolSize)\n",
        "  US3=UpSample1(US2, Skip3, NumberOfFilters[2], FilterSize, PoolSize)\n",
        "  US4=UpSample1(US3, Skip2, NumberOfFilters[1], FilterSize, PoolSize)\n",
        "  US5=UpSample2(US4, Skip1, NumberOfFilters[0], FilterSize, PoolSize)\n",
        "  #################################DECODER NETWORK END###########################\n",
        "  #################################OUTPUT  LAYER START###########################\n",
        "  Out = Conv2D(1, 1, activation = 'sigmoid')(US5)\n",
        "  #################################OUTPUT LAYER END##############################\n",
        "  model = Model(input = inputs, output = Out)\n",
        "  \n",
        "  model.compile(optimizer = Adam(lr = 1e-4), loss = 'binary_crossentropy', metrics = ['accuracy'])\n",
        "  model.summary()\n",
        "  return model"
      ],
      "execution_count": 0,
      "outputs": []
    },
    {
      "cell_type": "code",
      "metadata": {
        "id": "eO5GjPcQ6yIs",
        "colab_type": "code",
        "colab": {}
      },
      "source": [
        "Folders = ReadDataset(PATH)\n",
        "\n",
        "# Train, Test, Valid = Split(Folders, 0.8)\n",
        "# TrainGenerator = MyGenerator(PATH, Train)\n",
        "# ValidGenerator = MyGenerator(PATH, Valid)\n",
        "TestGenerator = MyGenerator(PATH, Test)\n",
        "\n",
        "#from keras.utils import plot_model\n",
        "#plot_model(Model, to_file='model.png')\n",
        "\n",
        "#for Index, Folder in enumerate(Folders):\n",
        "#     AnimateSample(Folders[0], 0)\n"
      ],
      "execution_count": 0,
      "outputs": []
    },
    {
      "cell_type": "code",
      "metadata": {
        "id": "BAb8fvbwsb3D",
        "colab_type": "code",
        "colab": {}
      },
      "source": [
        "#es = EarlyStopping(monitor='val_loss', mode='min', verbose=1)\n",
        "#callbacks=[es]"
      ],
      "execution_count": 0,
      "outputs": []
    },
    {
      "cell_type": "code",
      "metadata": {
        "id": "smrJqUQYz8iK",
        "colab_type": "code",
        "outputId": "785d855d-8c0b-4536-b84a-9a752f7250c8",
        "colab": {
          "base_uri": "https://localhost:8080/",
          "height": 1000
        }
      },
      "source": [
        "Model=MyModel(InputSize = (240,240,1))\n",
        "\n"
      ],
      "execution_count": 26,
      "outputs": [
        {
          "output_type": "stream",
          "text": [
            "WARNING:tensorflow:From /usr/local/lib/python3.6/dist-packages/keras/backend/tensorflow_backend.py:66: The name tf.get_default_graph is deprecated. Please use tf.compat.v1.get_default_graph instead.\n",
            "\n",
            "WARNING:tensorflow:From /usr/local/lib/python3.6/dist-packages/keras/backend/tensorflow_backend.py:541: The name tf.placeholder is deprecated. Please use tf.compat.v1.placeholder instead.\n",
            "\n",
            "WARNING:tensorflow:From /usr/local/lib/python3.6/dist-packages/keras/backend/tensorflow_backend.py:4479: The name tf.truncated_normal is deprecated. Please use tf.random.truncated_normal instead.\n",
            "\n",
            "WARNING:tensorflow:From /usr/local/lib/python3.6/dist-packages/keras/backend/tensorflow_backend.py:190: The name tf.get_default_session is deprecated. Please use tf.compat.v1.get_default_session instead.\n",
            "\n",
            "WARNING:tensorflow:From /usr/local/lib/python3.6/dist-packages/keras/backend/tensorflow_backend.py:197: The name tf.ConfigProto is deprecated. Please use tf.compat.v1.ConfigProto instead.\n",
            "\n",
            "WARNING:tensorflow:From /usr/local/lib/python3.6/dist-packages/keras/backend/tensorflow_backend.py:2041: The name tf.nn.fused_batch_norm is deprecated. Please use tf.compat.v1.nn.fused_batch_norm instead.\n",
            "\n",
            "WARNING:tensorflow:From /usr/local/lib/python3.6/dist-packages/keras/backend/tensorflow_backend.py:4267: The name tf.nn.max_pool is deprecated. Please use tf.nn.max_pool2d instead.\n",
            "\n",
            "WARNING:tensorflow:From /usr/local/lib/python3.6/dist-packages/keras/backend/tensorflow_backend.py:2239: The name tf.image.resize_nearest_neighbor is deprecated. Please use tf.compat.v1.image.resize_nearest_neighbor instead.\n",
            "\n",
            "WARNING:tensorflow:From /usr/local/lib/python3.6/dist-packages/keras/optimizers.py:793: The name tf.train.Optimizer is deprecated. Please use tf.compat.v1.train.Optimizer instead.\n",
            "\n",
            "WARNING:tensorflow:From /usr/local/lib/python3.6/dist-packages/tensorflow/python/ops/nn_impl.py:180: add_dispatch_support.<locals>.wrapper (from tensorflow.python.ops.array_ops) is deprecated and will be removed in a future version.\n",
            "Instructions for updating:\n",
            "Use tf.where in 2.0, which has the same broadcast rule as np.where\n",
            "Model: \"model_1\"\n",
            "__________________________________________________________________________________________________\n",
            "Layer (type)                    Output Shape         Param #     Connected to                     \n",
            "==================================================================================================\n",
            "input_1 (InputLayer)            (None, 240, 240, 1)  0                                            \n",
            "__________________________________________________________________________________________________\n",
            "conv2d_1 (Conv2D)               (None, 240, 240, 32) 320         input_1[0][0]                    \n",
            "__________________________________________________________________________________________________\n",
            "batch_normalization_1 (BatchNor (None, 240, 240, 32) 128         conv2d_1[0][0]                   \n",
            "__________________________________________________________________________________________________\n",
            "activation_1 (Activation)       (None, 240, 240, 32) 0           batch_normalization_1[0][0]      \n",
            "__________________________________________________________________________________________________\n",
            "conv2d_2 (Conv2D)               (None, 240, 240, 32) 9248        activation_1[0][0]               \n",
            "__________________________________________________________________________________________________\n",
            "batch_normalization_2 (BatchNor (None, 240, 240, 32) 128         conv2d_2[0][0]                   \n",
            "__________________________________________________________________________________________________\n",
            "activation_2 (Activation)       (None, 240, 240, 32) 0           batch_normalization_2[0][0]      \n",
            "__________________________________________________________________________________________________\n",
            "max_pooling2d_1 (MaxPooling2D)  (None, 120, 120, 32) 0           activation_2[0][0]               \n",
            "__________________________________________________________________________________________________\n",
            "conv2d_3 (Conv2D)               (None, 120, 120, 64) 18496       max_pooling2d_1[0][0]            \n",
            "__________________________________________________________________________________________________\n",
            "batch_normalization_3 (BatchNor (None, 120, 120, 64) 256         conv2d_3[0][0]                   \n",
            "__________________________________________________________________________________________________\n",
            "activation_3 (Activation)       (None, 120, 120, 64) 0           batch_normalization_3[0][0]      \n",
            "__________________________________________________________________________________________________\n",
            "conv2d_4 (Conv2D)               (None, 120, 120, 64) 36928       activation_3[0][0]               \n",
            "__________________________________________________________________________________________________\n",
            "batch_normalization_4 (BatchNor (None, 120, 120, 64) 256         conv2d_4[0][0]                   \n",
            "__________________________________________________________________________________________________\n",
            "activation_4 (Activation)       (None, 120, 120, 64) 0           batch_normalization_4[0][0]      \n",
            "__________________________________________________________________________________________________\n",
            "conv2d_5 (Conv2D)               (None, 120, 120, 64) 36928       activation_4[0][0]               \n",
            "__________________________________________________________________________________________________\n",
            "batch_normalization_5 (BatchNor (None, 120, 120, 64) 256         conv2d_5[0][0]                   \n",
            "__________________________________________________________________________________________________\n",
            "activation_5 (Activation)       (None, 120, 120, 64) 0           batch_normalization_5[0][0]      \n",
            "__________________________________________________________________________________________________\n",
            "max_pooling2d_2 (MaxPooling2D)  (None, 60, 60, 64)   0           activation_5[0][0]               \n",
            "__________________________________________________________________________________________________\n",
            "conv2d_6 (Conv2D)               (None, 60, 60, 128)  73856       max_pooling2d_2[0][0]            \n",
            "__________________________________________________________________________________________________\n",
            "batch_normalization_6 (BatchNor (None, 60, 60, 128)  512         conv2d_6[0][0]                   \n",
            "__________________________________________________________________________________________________\n",
            "activation_6 (Activation)       (None, 60, 60, 128)  0           batch_normalization_6[0][0]      \n",
            "__________________________________________________________________________________________________\n",
            "conv2d_7 (Conv2D)               (None, 60, 60, 128)  147584      activation_6[0][0]               \n",
            "__________________________________________________________________________________________________\n",
            "batch_normalization_7 (BatchNor (None, 60, 60, 128)  512         conv2d_7[0][0]                   \n",
            "__________________________________________________________________________________________________\n",
            "activation_7 (Activation)       (None, 60, 60, 128)  0           batch_normalization_7[0][0]      \n",
            "__________________________________________________________________________________________________\n",
            "conv2d_8 (Conv2D)               (None, 60, 60, 128)  147584      activation_7[0][0]               \n",
            "__________________________________________________________________________________________________\n",
            "batch_normalization_8 (BatchNor (None, 60, 60, 128)  512         conv2d_8[0][0]                   \n",
            "__________________________________________________________________________________________________\n",
            "activation_8 (Activation)       (None, 60, 60, 128)  0           batch_normalization_8[0][0]      \n",
            "__________________________________________________________________________________________________\n",
            "max_pooling2d_3 (MaxPooling2D)  (None, 30, 30, 128)  0           activation_8[0][0]               \n",
            "__________________________________________________________________________________________________\n",
            "conv2d_9 (Conv2D)               (None, 30, 30, 256)  295168      max_pooling2d_3[0][0]            \n",
            "__________________________________________________________________________________________________\n",
            "batch_normalization_9 (BatchNor (None, 30, 30, 256)  1024        conv2d_9[0][0]                   \n",
            "__________________________________________________________________________________________________\n",
            "activation_9 (Activation)       (None, 30, 30, 256)  0           batch_normalization_9[0][0]      \n",
            "__________________________________________________________________________________________________\n",
            "conv2d_10 (Conv2D)              (None, 30, 30, 256)  590080      activation_9[0][0]               \n",
            "__________________________________________________________________________________________________\n",
            "batch_normalization_10 (BatchNo (None, 30, 30, 256)  1024        conv2d_10[0][0]                  \n",
            "__________________________________________________________________________________________________\n",
            "activation_10 (Activation)      (None, 30, 30, 256)  0           batch_normalization_10[0][0]     \n",
            "__________________________________________________________________________________________________\n",
            "conv2d_11 (Conv2D)              (None, 30, 30, 256)  590080      activation_10[0][0]              \n",
            "__________________________________________________________________________________________________\n",
            "batch_normalization_11 (BatchNo (None, 30, 30, 256)  1024        conv2d_11[0][0]                  \n",
            "__________________________________________________________________________________________________\n",
            "activation_11 (Activation)      (None, 30, 30, 256)  0           batch_normalization_11[0][0]     \n",
            "__________________________________________________________________________________________________\n",
            "max_pooling2d_4 (MaxPooling2D)  (None, 15, 15, 256)  0           activation_11[0][0]              \n",
            "__________________________________________________________________________________________________\n",
            "conv2d_12 (Conv2D)              (None, 15, 15, 1024) 2360320     max_pooling2d_4[0][0]            \n",
            "__________________________________________________________________________________________________\n",
            "batch_normalization_12 (BatchNo (None, 15, 15, 1024) 4096        conv2d_12[0][0]                  \n",
            "__________________________________________________________________________________________________\n",
            "activation_12 (Activation)      (None, 15, 15, 1024) 0           batch_normalization_12[0][0]     \n",
            "__________________________________________________________________________________________________\n",
            "conv2d_13 (Conv2D)              (None, 15, 15, 1024) 9438208     activation_12[0][0]              \n",
            "__________________________________________________________________________________________________\n",
            "batch_normalization_13 (BatchNo (None, 15, 15, 1024) 4096        conv2d_13[0][0]                  \n",
            "__________________________________________________________________________________________________\n",
            "up_sampling2d_1 (UpSampling2D)  (None, 30, 30, 1024) 0           batch_normalization_13[0][0]     \n",
            "__________________________________________________________________________________________________\n",
            "concatenate_1 (Concatenate)     (None, 30, 30, 1280) 0           activation_11[0][0]              \n",
            "                                                                 up_sampling2d_1[0][0]            \n",
            "__________________________________________________________________________________________________\n",
            "conv2d_transpose_1 (Conv2DTrans (None, 30, 30, 256)  2949376     concatenate_1[0][0]              \n",
            "__________________________________________________________________________________________________\n",
            "batch_normalization_14 (BatchNo (None, 30, 30, 256)  1024        conv2d_transpose_1[0][0]         \n",
            "__________________________________________________________________________________________________\n",
            "activation_13 (Activation)      (None, 30, 30, 256)  0           batch_normalization_14[0][0]     \n",
            "__________________________________________________________________________________________________\n",
            "conv2d_transpose_2 (Conv2DTrans (None, 30, 30, 256)  590080      activation_13[0][0]              \n",
            "__________________________________________________________________________________________________\n",
            "batch_normalization_15 (BatchNo (None, 30, 30, 256)  1024        conv2d_transpose_2[0][0]         \n",
            "__________________________________________________________________________________________________\n",
            "activation_14 (Activation)      (None, 30, 30, 256)  0           batch_normalization_15[0][0]     \n",
            "__________________________________________________________________________________________________\n",
            "conv2d_transpose_3 (Conv2DTrans (None, 30, 30, 256)  590080      activation_14[0][0]              \n",
            "__________________________________________________________________________________________________\n",
            "batch_normalization_16 (BatchNo (None, 30, 30, 256)  1024        conv2d_transpose_3[0][0]         \n",
            "__________________________________________________________________________________________________\n",
            "activation_15 (Activation)      (None, 30, 30, 256)  0           batch_normalization_16[0][0]     \n",
            "__________________________________________________________________________________________________\n",
            "up_sampling2d_2 (UpSampling2D)  (None, 60, 60, 256)  0           activation_15[0][0]              \n",
            "__________________________________________________________________________________________________\n",
            "concatenate_2 (Concatenate)     (None, 60, 60, 384)  0           activation_8[0][0]               \n",
            "                                                                 up_sampling2d_2[0][0]            \n",
            "__________________________________________________________________________________________________\n",
            "conv2d_transpose_4 (Conv2DTrans (None, 60, 60, 128)  442496      concatenate_2[0][0]              \n",
            "__________________________________________________________________________________________________\n",
            "batch_normalization_17 (BatchNo (None, 60, 60, 128)  512         conv2d_transpose_4[0][0]         \n",
            "__________________________________________________________________________________________________\n",
            "activation_16 (Activation)      (None, 60, 60, 128)  0           batch_normalization_17[0][0]     \n",
            "__________________________________________________________________________________________________\n",
            "conv2d_transpose_5 (Conv2DTrans (None, 60, 60, 128)  147584      activation_16[0][0]              \n",
            "__________________________________________________________________________________________________\n",
            "batch_normalization_18 (BatchNo (None, 60, 60, 128)  512         conv2d_transpose_5[0][0]         \n",
            "__________________________________________________________________________________________________\n",
            "activation_17 (Activation)      (None, 60, 60, 128)  0           batch_normalization_18[0][0]     \n",
            "__________________________________________________________________________________________________\n",
            "conv2d_transpose_6 (Conv2DTrans (None, 60, 60, 128)  147584      activation_17[0][0]              \n",
            "__________________________________________________________________________________________________\n",
            "batch_normalization_19 (BatchNo (None, 60, 60, 128)  512         conv2d_transpose_6[0][0]         \n",
            "__________________________________________________________________________________________________\n",
            "activation_18 (Activation)      (None, 60, 60, 128)  0           batch_normalization_19[0][0]     \n",
            "__________________________________________________________________________________________________\n",
            "up_sampling2d_3 (UpSampling2D)  (None, 120, 120, 128 0           activation_18[0][0]              \n",
            "__________________________________________________________________________________________________\n",
            "concatenate_3 (Concatenate)     (None, 120, 120, 192 0           activation_5[0][0]               \n",
            "                                                                 up_sampling2d_3[0][0]            \n",
            "__________________________________________________________________________________________________\n",
            "conv2d_transpose_7 (Conv2DTrans (None, 120, 120, 64) 110656      concatenate_3[0][0]              \n",
            "__________________________________________________________________________________________________\n",
            "batch_normalization_20 (BatchNo (None, 120, 120, 64) 256         conv2d_transpose_7[0][0]         \n",
            "__________________________________________________________________________________________________\n",
            "activation_19 (Activation)      (None, 120, 120, 64) 0           batch_normalization_20[0][0]     \n",
            "__________________________________________________________________________________________________\n",
            "conv2d_transpose_8 (Conv2DTrans (None, 120, 120, 64) 36928       activation_19[0][0]              \n",
            "__________________________________________________________________________________________________\n",
            "batch_normalization_21 (BatchNo (None, 120, 120, 64) 256         conv2d_transpose_8[0][0]         \n",
            "__________________________________________________________________________________________________\n",
            "activation_20 (Activation)      (None, 120, 120, 64) 0           batch_normalization_21[0][0]     \n",
            "__________________________________________________________________________________________________\n",
            "conv2d_transpose_9 (Conv2DTrans (None, 120, 120, 64) 36928       activation_20[0][0]              \n",
            "__________________________________________________________________________________________________\n",
            "batch_normalization_22 (BatchNo (None, 120, 120, 64) 256         conv2d_transpose_9[0][0]         \n",
            "__________________________________________________________________________________________________\n",
            "activation_21 (Activation)      (None, 120, 120, 64) 0           batch_normalization_22[0][0]     \n",
            "__________________________________________________________________________________________________\n",
            "up_sampling2d_4 (UpSampling2D)  (None, 240, 240, 64) 0           activation_21[0][0]              \n",
            "__________________________________________________________________________________________________\n",
            "concatenate_4 (Concatenate)     (None, 240, 240, 96) 0           activation_2[0][0]               \n",
            "                                                                 up_sampling2d_4[0][0]            \n",
            "__________________________________________________________________________________________________\n",
            "conv2d_transpose_10 (Conv2DTran (None, 240, 240, 32) 27680       concatenate_4[0][0]              \n",
            "__________________________________________________________________________________________________\n",
            "batch_normalization_23 (BatchNo (None, 240, 240, 32) 128         conv2d_transpose_10[0][0]        \n",
            "__________________________________________________________________________________________________\n",
            "activation_22 (Activation)      (None, 240, 240, 32) 0           batch_normalization_23[0][0]     \n",
            "__________________________________________________________________________________________________\n",
            "conv2d_transpose_11 (Conv2DTran (None, 240, 240, 32) 9248        activation_22[0][0]              \n",
            "__________________________________________________________________________________________________\n",
            "batch_normalization_24 (BatchNo (None, 240, 240, 32) 128         conv2d_transpose_11[0][0]        \n",
            "__________________________________________________________________________________________________\n",
            "activation_23 (Activation)      (None, 240, 240, 32) 0           batch_normalization_24[0][0]     \n",
            "__________________________________________________________________________________________________\n",
            "conv2d_14 (Conv2D)              (None, 240, 240, 1)  33          activation_23[0][0]              \n",
            "==================================================================================================\n",
            "Total params: 18,852,929\n",
            "Trainable params: 18,843,201\n",
            "Non-trainable params: 9,728\n",
            "__________________________________________________________________________________________________\n"
          ],
          "name": "stdout"
        },
        {
          "output_type": "stream",
          "text": [
            "/usr/local/lib/python3.6/dist-packages/ipykernel_launcher.py:70: UserWarning: Update your `Model` call to the Keras 2 API: `Model(inputs=Tensor(\"in..., outputs=Tensor(\"co...)`\n"
          ],
          "name": "stderr"
        }
      ]
    },
    {
      "cell_type": "code",
      "metadata": {
        "id": "cl4reQSw7eMJ",
        "colab_type": "code",
        "outputId": "0f61e71a-e7fe-410d-ed94-4466da6acbc5",
        "colab": {
          "base_uri": "https://localhost:8080/",
          "height": 50
        }
      },
      "source": [
        "Model.fit_generator(CustomGenerator(), steps_per_epoch= (165*30), epochs = 4, verbose = 1)"
      ],
      "execution_count": 0,
      "outputs": [
        {
          "output_type": "stream",
          "text": [
            "Epoch 1/4\n",
            "1536/4950 [========>.....................] - ETA: 21:58 - loss: 7.1319e-04 - acc: 0.9903"
          ],
          "name": "stdout"
        }
      ]
    },
    {
      "cell_type": "code",
      "metadata": {
        "id": "Eig2iXz-0dfb",
        "colab_type": "code",
        "colab": {}
      },
      "source": [
        "from keras import models as mod\n",
        "LayersOutput = [Layer.output for Layer in Model.layers[1:len(Model.layers)-2]]\n",
        "_Model = mod.Model(inputs=Model.inputs, outputs = LayersOutput)\n"
      ],
      "execution_count": 0,
      "outputs": []
    },
    {
      "cell_type": "code",
      "metadata": {
        "id": "ahZ06P686QsJ",
        "colab_type": "code",
        "colab": {
          "base_uri": "https://localhost:8080/",
          "height": 391
        },
        "outputId": "cb4c85b6-7f96-4daa-8ba4-1afd2e986f6d"
      },
      "source": [
        "\n",
        "TDX, TDY = TestGenerator.__getitem__(1)\n",
        "\n",
        "#raise ValueError(TDX.shape)\n",
        "#Activations = _Model.predict(np.expand_dims(TDX[0],0))\n",
        "Out = Model.predict(np.expand_dims(TDX[77,:,:,:],0))\n",
        "# raise ValueError(Out.shape, TDY.shape)\n",
        "DisplayOutputSingle(Out[0,:,:,0],TDY[77,:,:,0])\n",
        "DisplayOutputSingle(Out[0,:,:,0],TDX[77,:,:,0])"
      ],
      "execution_count": 56,
      "outputs": [
        {
          "output_type": "display_data",
          "data": {
            "image/png": "[encoded data removed]",
            "text/plain": [
              "<Figure size 432x288 with 2 Axes>"
            ]
          },
          "metadata": {
            "tags": []
          }
        },
        {
          "output_type": "display_data",
          "data": {
            "image/png": "[encoded data removed]",
            "text/plain": [
              "<Figure size 432x288 with 2 Axes>"
            ]
          },
          "metadata": {
            "tags": []
          }
        }
      ]
    },
    {
      "cell_type": "code",
      "metadata": {
        "id": "L6z4BF3cNs5v",
        "colab_type": "code",
        "colab": {
          "base_uri": "https://localhost:8080/",
          "height": 237
        },
        "outputId": "d3f3ae6e-2838-40ed-f76a-aa614f5f637e"
      },
      "source": [
        "# plt.hist(np.squeeze(Out[0],2)*65535)\n",
        "fig, axes = plt.subplots(1,2)\n",
        "axes[0].imshow(Out[3,:,:,0]*10)\n",
        "print(TDY.dtype)\n",
        "# print()\n",
        "axes[1].imshow(TDY[0,:,:,0])\n"
      ],
      "execution_count": 30,
      "outputs": [
        {
          "output_type": "stream",
          "text": [
            "float64\n"
          ],
          "name": "stdout"
        },
        {
          "output_type": "execute_result",
          "data": {
            "text/plain": [
              "<matplotlib.image.AxesImage at 0x7ff0fb04bb70>"
            ]
          },
          "metadata": {
            "tags": []
          },
          "execution_count": 30
        },
        {
          "output_type": "display_data",
          "data": {
            "image/png": "[encoded data removed]",
            "text/plain": [
              "<Figure size 432x288 with 2 Axes>"
            ]
          },
          "metadata": {
            "tags": []
          }
        }
      ]
    },
    {
      "cell_type": "code",
      "metadata": {
        "id": "Tf1ZiHwe8xCu",
        "colab_type": "code",
        "colab": {}
      },
      "source": [
        "def DisplayOutputMultiple(ImageList):\n",
        "  #raise ValueError(Predicted.shape, GroundTruth.shape)\n",
        "  fig, axes = plt.subplots(1,len(ImageList))\n",
        "  for Index,Image in enumerate(ImageList):\n",
        "    axes[Index].imshow(Image)\n",
        "  plt.show()"
      ],
      "execution_count": 0,
      "outputs": []
    },
    {
      "cell_type": "code",
      "metadata": {
        "id": "4AmYmP_bQ8ei",
        "colab_type": "code",
        "colab": {
          "base_uri": "https://localhost:8080/",
          "height": 230
        },
        "outputId": "c55cb774-cb3e-4b68-8a6c-3471d19be747"
      },
      "source": [
        "names = [Layer.name for Layer in Model.layers[1:len(Model.layers)]]\n",
        "Activations[0].shape\n",
        "index = 16\n",
        "for Act in Activations:\n",
        "  print(names[index])\n",
        "  OP=np.squeeze(Activations[index],0)\n",
        "  DisplayOutputMultiple([OP[:,:,i] for i in range(0,20)])\n",
        "  break"
      ],
      "execution_count": 32,
      "outputs": [
        {
          "output_type": "error",
          "ename": "NameError",
          "evalue": "ignored",
          "traceback": [
            "\u001b[0;31m---------------------------------------------------------------------------\u001b[0m",
            "\u001b[0;31mNameError\u001b[0m                                 Traceback (most recent call last)",
            "\u001b[0;32m<ipython-input-32-bc7a954a3735>\u001b[0m in \u001b[0;36m<module>\u001b[0;34m()\u001b[0m\n\u001b[1;32m      1\u001b[0m \u001b[0mnames\u001b[0m \u001b[0;34m=\u001b[0m \u001b[0;34m[\u001b[0m\u001b[0mLayer\u001b[0m\u001b[0;34m.\u001b[0m\u001b[0mname\u001b[0m \u001b[0;32mfor\u001b[0m \u001b[0mLayer\u001b[0m \u001b[0;32min\u001b[0m \u001b[0mModel\u001b[0m\u001b[0;34m.\u001b[0m\u001b[0mlayers\u001b[0m\u001b[0;34m[\u001b[0m\u001b[0;36m1\u001b[0m\u001b[0;34m:\u001b[0m\u001b[0mlen\u001b[0m\u001b[0;34m(\u001b[0m\u001b[0mModel\u001b[0m\u001b[0;34m.\u001b[0m\u001b[0mlayers\u001b[0m\u001b[0;34m)\u001b[0m\u001b[0;34m]\u001b[0m\u001b[0;34m]\u001b[0m\u001b[0;34m\u001b[0m\u001b[0;34m\u001b[0m\u001b[0m\n\u001b[0;32m----> 2\u001b[0;31m \u001b[0mActivations\u001b[0m\u001b[0;34m[\u001b[0m\u001b[0;36m0\u001b[0m\u001b[0;34m]\u001b[0m\u001b[0;34m.\u001b[0m\u001b[0mshape\u001b[0m\u001b[0;34m\u001b[0m\u001b[0;34m\u001b[0m\u001b[0m\n\u001b[0m\u001b[1;32m      3\u001b[0m \u001b[0mindex\u001b[0m \u001b[0;34m=\u001b[0m \u001b[0;36m16\u001b[0m\u001b[0;34m\u001b[0m\u001b[0;34m\u001b[0m\u001b[0m\n\u001b[1;32m      4\u001b[0m \u001b[0;32mfor\u001b[0m \u001b[0mAct\u001b[0m \u001b[0;32min\u001b[0m \u001b[0mActivations\u001b[0m\u001b[0;34m:\u001b[0m\u001b[0;34m\u001b[0m\u001b[0;34m\u001b[0m\u001b[0m\n\u001b[1;32m      5\u001b[0m   \u001b[0mprint\u001b[0m\u001b[0;34m(\u001b[0m\u001b[0mnames\u001b[0m\u001b[0;34m[\u001b[0m\u001b[0mindex\u001b[0m\u001b[0;34m]\u001b[0m\u001b[0;34m)\u001b[0m\u001b[0;34m\u001b[0m\u001b[0;34m\u001b[0m\u001b[0m\n",
            "\u001b[0;31mNameError\u001b[0m: name 'Activations' is not defined"
          ]
        }
      ]
    },
    {
      "cell_type": "code",
      "metadata": {
        "id": "xr0BWY-RUl3x",
        "colab_type": "code",
        "colab": {}
      },
      "source": [
        ""
      ],
      "execution_count": 0,
      "outputs": []
    },
    {
      "cell_type": "code",
      "metadata": {
        "id": "8C0pz_6twkjU",
        "colab_type": "code",
        "colab": {}
      },
      "source": [
        "np.unique(Out)\n"
      ],
      "execution_count": 0,
      "outputs": []
    },
    {
      "cell_type": "code",
      "metadata": {
        "id": "ZlBKE9aCFp6m",
        "colab_type": "code",
        "colab": {}
      },
      "source": [
        "\n",
        "np.unique(TDY*65535,return_counts=True)"
      ],
      "execution_count": 0,
      "outputs": []
    },
    {
      "cell_type": "code",
      "metadata": {
        "id": "OW9P_va1GCNI",
        "colab_type": "code",
        "colab": {}
      },
      "source": [
        ""
      ],
      "execution_count": 0,
      "outputs": []
    }
  ]
}